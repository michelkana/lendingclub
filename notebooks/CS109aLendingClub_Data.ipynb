{
  "nbformat": 4,
  "nbformat_minor": 0,
  "metadata": {
    "colab": {
      "name": "2) Data.ipynb",
      "version": "0.3.2",
      "provenance": []
    },
    "kernelspec": {
      "display_name": "Python 3",
      "language": "python",
      "name": "python3"
    }
  },
  "cells": [
    {
      "metadata": {
        "colab_type": "code",
        "id": "i0a1ktabO9MA",
        "colab": {}
      },
      "cell_type": "code",
      "source": [
        "# <img style=\"float: left; padding-right: 10px; width: 45px\" src=\"https://raw.githubusercontent.com/Harvard-IACS/2018-CS109A/master/content/styles/iacs.png\"> CS109A Introduction to Data Science\n",
        "\n",
        "## Project Group #26: Lending Club\n",
        "\n",
        "\n",
        "**Harvard University**<br/>\n",
        "**Fall 2018**<br/>\n",
        "**Instructors**: Pavlos Protopapas, Kevin Rader<br/>\n",
        "**TF**: Jerry Peng<br/>\n",
        "**Students**: Michel Atoudem Kana, William Groves, Shourya Veeraganti\n",
        "\n",
        "<hr style=\"height:2pt\">\n",
        "\n"
      ],
      "execution_count": 0,
      "outputs": []
    },
    {
      "metadata": {
        "colab_type": "text",
        "id": "F568INsBO9Ny"
      },
      "cell_type": "markdown",
      "source": [
        "# Data Description and Cleaning"
      ]
    },
    {
      "metadata": {
        "colab_type": "code",
        "id": "w6kC__i_O9N-",
        "colab": {}
      },
      "cell_type": "code",
      "source": [
        "#RUN THIS CELL \n",
        "import requests\n",
        "from IPython.core.display import HTML\n",
        "styles = requests.get(\"https://raw.githubusercontent.com/Harvard-IACS/2018-CS109A/master/content/styles/cs109.css\").text\n",
        "HTML(styles)\n",
        "\n",
        "import numpy as np\n",
        "import pandas as pd\n"
      ],
      "execution_count": 0,
      "outputs": []
    },
    {
      "metadata": {
        "id": "jFIGraTzrZLk",
        "colab_type": "text"
      },
      "cell_type": "markdown",
      "source": [
        "# Data Description"
      ]
    },
    {
      "metadata": {
        "id": "rPt9sK_2rZLq",
        "colab_type": "text"
      },
      "cell_type": "markdown",
      "source": [
        "Lending Club publishes all its historical data since its inception in 2007. It provides two online, open access datasets for accepted and rejected loans from 2007 to 2018 Q2 for a period of 11.5 years in comma-separated values (CSV) format. Each accepted loan data set has 146 features for each of observation. With basic data cleaning, we removed the index column, columns with constant value and columns associated with 90% missing values that reduced the number of features to 106. Further we identified features which are strongly correlated (r=±0.8) that left us with 82 features on the accepted loan dataset.\n",
        "\n",
        "To help us in our goal of analyzing fairness and interpretability we downloaded the census data about American people and US economy from United States Census Bureau. We have social, economic, and geographic data from 2016 grouped by zip code provided via Piazza by CS109a instructors. This dataset has 33120 zip codes described by 135 features. Trivial columns such as name, population and others were removed that left us with 85 features. Then the census data was merged with loan accepted data on zipcode ending with 167 features. Then we further used scikit learn feature selection on SelectPercentile reducing 141 predictors for our model analysis. For reconciliation, we downloaded data for all years and then we took a random sample of 10% and saved it to our own server “https://digintu.tech/tmp/cs109a/” stored in the file “loan_accepted_10.csv” for easy access. Also removed empty/duplicate rows that left us with 200K observations.\n",
        "\n",
        "Second dataset provided online is the rejected loan information, again from 2007 to 2018 Q2 for 11.5 years. This dataset has 9 features. Each application of rejected loan has 9 features and the total amount was worth $22million not funded. These Rejected Loans data files contain the list and details of all loan applications that did not meet Lending Club's credit underwriting policy and the application was rejected.\n",
        "\n",
        "We group the remaining features from loan accepted merged with census data into 5 classes:\n",
        "● loan data: information about the loan at the moment when it was requested\n",
        "● loan follow up: information about the loan's follow up throughout its term\n",
        "● borrower demographics: information about the borrower\n",
        "● borrower financial profile: financial background of the borrower at the moment when he requested the loan\n",
        "● borrower financial profile follow up: changes in financial profile of the borrower throughout the loan term"
      ]
    },
    {
      "metadata": {
        "id": "EqKOnEJZrZLy",
        "colab_type": "text"
      },
      "cell_type": "markdown",
      "source": [
        "# Raw Data"
      ]
    },
    {
      "metadata": {
        "id": "mWmApMV-rZL0",
        "colab_type": "text"
      },
      "cell_type": "markdown",
      "source": [
        "**Helper functions**"
      ]
    },
    {
      "metadata": {
        "id": "Na03_sF5rZL4",
        "colab_type": "code",
        "colab": {}
      },
      "cell_type": "code",
      "source": [
        "\"\"\"\n",
        "The following function returns the description of the features in lending club data.\n",
        "Parameters\n",
        "  df: dataframe containing the data\n",
        "\"\"\"\n",
        "def df_features_desc(df):\n",
        "    df_cols_desc = load_data(['LCDataDictionary.csv'])\n",
        "    desc = pd.DataFrame(df.columns).merge(df_cols_desc, how='left', left_on=0, right_on='LoanStatNew')[['LoanStatNew','Description']]\n",
        "    desc = pd.DataFrame(df.dtypes).reset_index().merge(desc, how='right', left_on='index', right_on='LoanStatNew')[['LoanStatNew', 0,'Description']]\n",
        "    desc = desc.rename(columns={0: 'Data Type', 'LoanStatNew':'Feature'})#.sort_values(by=['Feature'])\n",
        "    desc = desc.dropna()\n",
        "    pd.set_option('display.max_colwidth', -1)\n",
        "    desc.style.set_properties({'text-align': 'left'})\n",
        "    display(HTML(desc.to_html()))"
      ],
      "execution_count": 0,
      "outputs": []
    },
    {
      "metadata": {
        "id": "H9v4Sq6RrZMI",
        "colab_type": "text"
      },
      "cell_type": "markdown",
      "source": [
        "## Accepted Loans\n",
        "\n",
        "We load all loans accepted (approved) and funded on the LendingClub marketplace from 2007 to 2018 Q3 for a period of 11.5 years from separated files into the dataframe `df_loan_accepted`."
      ]
    },
    {
      "metadata": {
        "id": "78HSxkDfrZMM",
        "colab_type": "code",
        "colab": {}
      },
      "cell_type": "code",
      "source": [
        "df_loan_accepted = load_data(['loan_accepted_10.csv'])"
      ],
      "execution_count": 0,
      "outputs": []
    },
    {
      "metadata": {
        "id": "T6yZNdEDrZMY",
        "colab_type": "code",
        "colab": {},
        "outputId": "ee2b08c9-f10b-443e-9485-ffa81ecf1700"
      },
      "cell_type": "code",
      "source": [
        "df_loan_accepted.shape"
      ],
      "execution_count": 0,
      "outputs": [
        {
          "output_type": "execute_result",
          "data": {
            "text/plain": [
              "(200409, 146)"
            ]
          },
          "metadata": {
            "tags": []
          },
          "execution_count": 246
        }
      ]
    },
    {
      "metadata": {
        "colab_type": "text",
        "id": "7gSn9CBNSJ56"
      },
      "cell_type": "markdown",
      "source": [
        "There are approximately **2 millions accepted loans**, each of them has 146 columns. Many columns are however empty."
      ]
    },
    {
      "metadata": {
        "id": "n4wkM67SrZMu",
        "colab_type": "code",
        "colab": {},
        "outputId": "fc760c45-bb96-40bb-f352-237a2735ed74"
      },
      "cell_type": "code",
      "source": [
        "df_loan_accepted.describe()"
      ],
      "execution_count": 0,
      "outputs": [
        {
          "output_type": "execute_result",
          "data": {
            "text/html": [
              "<div>\n",
              "<style scoped>\n",
              "    .dataframe tbody tr th:only-of-type {\n",
              "        vertical-align: middle;\n",
              "    }\n",
              "\n",
              "    .dataframe tbody tr th {\n",
              "        vertical-align: top;\n",
              "    }\n",
              "\n",
              "    .dataframe thead th {\n",
              "        text-align: right;\n",
              "    }\n",
              "</style>\n",
              "<table border=\"1\" class=\"dataframe\">\n",
              "  <thead>\n",
              "    <tr style=\"text-align: right;\">\n",
              "      <th></th>\n",
              "      <th>Unnamed: 0</th>\n",
              "      <th>member_id</th>\n",
              "      <th>loan_amnt</th>\n",
              "      <th>funded_amnt</th>\n",
              "      <th>funded_amnt_inv</th>\n",
              "      <th>installment</th>\n",
              "      <th>annual_inc</th>\n",
              "      <th>url</th>\n",
              "      <th>dti</th>\n",
              "      <th>delinq_2yrs</th>\n",
              "      <th>...</th>\n",
              "      <th>deferral_term</th>\n",
              "      <th>hardship_amount</th>\n",
              "      <th>hardship_length</th>\n",
              "      <th>hardship_dpd</th>\n",
              "      <th>orig_projected_additional_accrued_interest</th>\n",
              "      <th>hardship_payoff_balance_amount</th>\n",
              "      <th>hardship_last_payment_amount</th>\n",
              "      <th>settlement_amount</th>\n",
              "      <th>settlement_percentage</th>\n",
              "      <th>settlement_term</th>\n",
              "    </tr>\n",
              "  </thead>\n",
              "  <tbody>\n",
              "    <tr>\n",
              "      <th>count</th>\n",
              "      <td>200409.000000</td>\n",
              "      <td>0.0</td>\n",
              "      <td>200407.000000</td>\n",
              "      <td>200407.000000</td>\n",
              "      <td>200407.000000</td>\n",
              "      <td>200407.000000</td>\n",
              "      <td>2.004060e+05</td>\n",
              "      <td>0.0</td>\n",
              "      <td>200293.000000</td>\n",
              "      <td>200402.000000</td>\n",
              "      <td>...</td>\n",
              "      <td>881.0</td>\n",
              "      <td>881.000000</td>\n",
              "      <td>881.0</td>\n",
              "      <td>881.000000</td>\n",
              "      <td>700.000000</td>\n",
              "      <td>881.000000</td>\n",
              "      <td>881.000000</td>\n",
              "      <td>2619.000000</td>\n",
              "      <td>2619.000000</td>\n",
              "      <td>2619.000000</td>\n",
              "    </tr>\n",
              "    <tr>\n",
              "      <th>mean</th>\n",
              "      <td>99055.357324</td>\n",
              "      <td>NaN</td>\n",
              "      <td>14925.943330</td>\n",
              "      <td>14920.633261</td>\n",
              "      <td>14899.501524</td>\n",
              "      <td>443.203570</td>\n",
              "      <td>7.742113e+04</td>\n",
              "      <td>NaN</td>\n",
              "      <td>18.653801</td>\n",
              "      <td>0.315266</td>\n",
              "      <td>...</td>\n",
              "      <td>3.0</td>\n",
              "      <td>150.793394</td>\n",
              "      <td>3.0</td>\n",
              "      <td>12.542565</td>\n",
              "      <td>443.717143</td>\n",
              "      <td>11555.922758</td>\n",
              "      <td>200.722781</td>\n",
              "      <td>5043.492249</td>\n",
              "      <td>47.868813</td>\n",
              "      <td>12.512791</td>\n",
              "    </tr>\n",
              "    <tr>\n",
              "      <th>std</th>\n",
              "      <td>91099.127758</td>\n",
              "      <td>NaN</td>\n",
              "      <td>9046.369332</td>\n",
              "      <td>9044.458980</td>\n",
              "      <td>9048.247653</td>\n",
              "      <td>264.271981</td>\n",
              "      <td>7.869853e+04</td>\n",
              "      <td>NaN</td>\n",
              "      <td>12.279450</td>\n",
              "      <td>0.869024</td>\n",
              "      <td>...</td>\n",
              "      <td>0.0</td>\n",
              "      <td>117.160448</td>\n",
              "      <td>0.0</td>\n",
              "      <td>10.002764</td>\n",
              "      <td>343.897939</td>\n",
              "      <td>7079.323715</td>\n",
              "      <td>197.927608</td>\n",
              "      <td>3650.713791</td>\n",
              "      <td>7.220576</td>\n",
              "      <td>8.330692</td>\n",
              "    </tr>\n",
              "    <tr>\n",
              "      <th>min</th>\n",
              "      <td>0.000000</td>\n",
              "      <td>NaN</td>\n",
              "      <td>500.000000</td>\n",
              "      <td>500.000000</td>\n",
              "      <td>0.000000</td>\n",
              "      <td>16.850000</td>\n",
              "      <td>0.000000e+00</td>\n",
              "      <td>NaN</td>\n",
              "      <td>0.000000</td>\n",
              "      <td>0.000000</td>\n",
              "      <td>...</td>\n",
              "      <td>3.0</td>\n",
              "      <td>0.640000</td>\n",
              "      <td>3.0</td>\n",
              "      <td>0.000000</td>\n",
              "      <td>1.920000</td>\n",
              "      <td>55.730000</td>\n",
              "      <td>0.010000</td>\n",
              "      <td>221.260000</td>\n",
              "      <td>20.000000</td>\n",
              "      <td>0.000000</td>\n",
              "    </tr>\n",
              "    <tr>\n",
              "      <th>25%</th>\n",
              "      <td>36044.000000</td>\n",
              "      <td>NaN</td>\n",
              "      <td>8000.000000</td>\n",
              "      <td>8000.000000</td>\n",
              "      <td>8000.000000</td>\n",
              "      <td>251.680000</td>\n",
              "      <td>4.600000e+04</td>\n",
              "      <td>NaN</td>\n",
              "      <td>11.920000</td>\n",
              "      <td>0.000000</td>\n",
              "      <td>...</td>\n",
              "      <td>3.0</td>\n",
              "      <td>62.200000</td>\n",
              "      <td>3.0</td>\n",
              "      <td>0.000000</td>\n",
              "      <td>183.735000</td>\n",
              "      <td>6245.200000</td>\n",
              "      <td>40.040000</td>\n",
              "      <td>2265.470000</td>\n",
              "      <td>45.000000</td>\n",
              "      <td>6.000000</td>\n",
              "    </tr>\n",
              "    <tr>\n",
              "      <th>50%</th>\n",
              "      <td>74274.000000</td>\n",
              "      <td>NaN</td>\n",
              "      <td>12800.000000</td>\n",
              "      <td>12800.000000</td>\n",
              "      <td>12700.000000</td>\n",
              "      <td>377.040000</td>\n",
              "      <td>6.500000e+04</td>\n",
              "      <td>NaN</td>\n",
              "      <td>17.820000</td>\n",
              "      <td>0.000000</td>\n",
              "      <td>...</td>\n",
              "      <td>3.0</td>\n",
              "      <td>120.210000</td>\n",
              "      <td>3.0</td>\n",
              "      <td>13.000000</td>\n",
              "      <td>352.815000</td>\n",
              "      <td>10184.380000</td>\n",
              "      <td>144.010000</td>\n",
              "      <td>4248.000000</td>\n",
              "      <td>45.000000</td>\n",
              "      <td>12.000000</td>\n",
              "    </tr>\n",
              "    <tr>\n",
              "      <th>75%</th>\n",
              "      <td>122155.000000</td>\n",
              "      <td>NaN</td>\n",
              "      <td>20000.000000</td>\n",
              "      <td>20000.000000</td>\n",
              "      <td>20000.000000</td>\n",
              "      <td>587.340000</td>\n",
              "      <td>9.200000e+04</td>\n",
              "      <td>NaN</td>\n",
              "      <td>24.420000</td>\n",
              "      <td>0.000000</td>\n",
              "      <td>...</td>\n",
              "      <td>3.0</td>\n",
              "      <td>205.280000</td>\n",
              "      <td>3.0</td>\n",
              "      <td>21.000000</td>\n",
              "      <td>602.970000</td>\n",
              "      <td>15778.330000</td>\n",
              "      <td>309.570000</td>\n",
              "      <td>6855.900000</td>\n",
              "      <td>50.000000</td>\n",
              "      <td>18.000000</td>\n",
              "    </tr>\n",
              "    <tr>\n",
              "      <th>max</th>\n",
              "      <td>421092.000000</td>\n",
              "      <td>NaN</td>\n",
              "      <td>40000.000000</td>\n",
              "      <td>40000.000000</td>\n",
              "      <td>40000.000000</td>\n",
              "      <td>1719.830000</td>\n",
              "      <td>9.300000e+06</td>\n",
              "      <td>NaN</td>\n",
              "      <td>999.000000</td>\n",
              "      <td>21.000000</td>\n",
              "      <td>...</td>\n",
              "      <td>3.0</td>\n",
              "      <td>828.490000</td>\n",
              "      <td>3.0</td>\n",
              "      <td>30.000000</td>\n",
              "      <td>2066.880000</td>\n",
              "      <td>36734.040000</td>\n",
              "      <td>1377.170000</td>\n",
              "      <td>28000.000000</td>\n",
              "      <td>93.990000</td>\n",
              "      <td>65.000000</td>\n",
              "    </tr>\n",
              "  </tbody>\n",
              "</table>\n",
              "<p>8 rows × 107 columns</p>\n",
              "</div>"
            ],
            "text/plain": [
              "          Unnamed: 0  member_id      loan_amnt    funded_amnt  \\\n",
              "count  200409.000000        0.0  200407.000000  200407.000000   \n",
              "mean    99055.357324        NaN   14925.943330   14920.633261   \n",
              "std     91099.127758        NaN    9046.369332    9044.458980   \n",
              "min         0.000000        NaN     500.000000     500.000000   \n",
              "25%     36044.000000        NaN    8000.000000    8000.000000   \n",
              "50%     74274.000000        NaN   12800.000000   12800.000000   \n",
              "75%    122155.000000        NaN   20000.000000   20000.000000   \n",
              "max    421092.000000        NaN   40000.000000   40000.000000   \n",
              "\n",
              "       funded_amnt_inv    installment    annual_inc  url            dti  \\\n",
              "count    200407.000000  200407.000000  2.004060e+05  0.0  200293.000000   \n",
              "mean      14899.501524     443.203570  7.742113e+04  NaN      18.653801   \n",
              "std        9048.247653     264.271981  7.869853e+04  NaN      12.279450   \n",
              "min           0.000000      16.850000  0.000000e+00  NaN       0.000000   \n",
              "25%        8000.000000     251.680000  4.600000e+04  NaN      11.920000   \n",
              "50%       12700.000000     377.040000  6.500000e+04  NaN      17.820000   \n",
              "75%       20000.000000     587.340000  9.200000e+04  NaN      24.420000   \n",
              "max       40000.000000    1719.830000  9.300000e+06  NaN     999.000000   \n",
              "\n",
              "         delinq_2yrs       ...         deferral_term  hardship_amount  \\\n",
              "count  200402.000000       ...                 881.0       881.000000   \n",
              "mean        0.315266       ...                   3.0       150.793394   \n",
              "std         0.869024       ...                   0.0       117.160448   \n",
              "min         0.000000       ...                   3.0         0.640000   \n",
              "25%         0.000000       ...                   3.0        62.200000   \n",
              "50%         0.000000       ...                   3.0       120.210000   \n",
              "75%         0.000000       ...                   3.0       205.280000   \n",
              "max        21.000000       ...                   3.0       828.490000   \n",
              "\n",
              "       hardship_length  hardship_dpd  \\\n",
              "count            881.0    881.000000   \n",
              "mean               3.0     12.542565   \n",
              "std                0.0     10.002764   \n",
              "min                3.0      0.000000   \n",
              "25%                3.0      0.000000   \n",
              "50%                3.0     13.000000   \n",
              "75%                3.0     21.000000   \n",
              "max                3.0     30.000000   \n",
              "\n",
              "       orig_projected_additional_accrued_interest  \\\n",
              "count                                  700.000000   \n",
              "mean                                   443.717143   \n",
              "std                                    343.897939   \n",
              "min                                      1.920000   \n",
              "25%                                    183.735000   \n",
              "50%                                    352.815000   \n",
              "75%                                    602.970000   \n",
              "max                                   2066.880000   \n",
              "\n",
              "       hardship_payoff_balance_amount  hardship_last_payment_amount  \\\n",
              "count                      881.000000                    881.000000   \n",
              "mean                     11555.922758                    200.722781   \n",
              "std                       7079.323715                    197.927608   \n",
              "min                         55.730000                      0.010000   \n",
              "25%                       6245.200000                     40.040000   \n",
              "50%                      10184.380000                    144.010000   \n",
              "75%                      15778.330000                    309.570000   \n",
              "max                      36734.040000                   1377.170000   \n",
              "\n",
              "       settlement_amount  settlement_percentage  settlement_term  \n",
              "count        2619.000000            2619.000000      2619.000000  \n",
              "mean         5043.492249              47.868813        12.512791  \n",
              "std          3650.713791               7.220576         8.330692  \n",
              "min           221.260000              20.000000         0.000000  \n",
              "25%          2265.470000              45.000000         6.000000  \n",
              "50%          4248.000000              45.000000        12.000000  \n",
              "75%          6855.900000              50.000000        18.000000  \n",
              "max         28000.000000              93.990000        65.000000  \n",
              "\n",
              "[8 rows x 107 columns]"
            ]
          },
          "metadata": {
            "tags": []
          },
          "execution_count": 7
        }
      ]
    },
    {
      "metadata": {
        "id": "o2tkgrstrZNE",
        "colab_type": "text"
      },
      "cell_type": "markdown",
      "source": [
        "Below is a short description of columns in the accepted loan data set."
      ]
    },
    {
      "metadata": {
        "colab_type": "code",
        "id": "6v_bUvZExUv-",
        "outputId": "779ad1b8-bb19-4a98-e557-d6c6212ac8db",
        "colab": {
          "base_uri": "https://localhost:8080/",
          "height": 111
        }
      },
      "cell_type": "code",
      "source": [
        "df_features_desc(df_loan_accepted)"
      ],
      "execution_count": 0,
      "outputs": [
        {
          "output_type": "display_data",
          "data": {
            "text/html": [
              "<table border=\"1\" class=\"dataframe\">\n",
              "  <thead>\n",
              "    <tr style=\"text-align: right;\">\n",
              "      <th></th>\n",
              "      <th>Feature</th>\n",
              "      <th>Data Type</th>\n",
              "      <th>Description</th>\n",
              "    </tr>\n",
              "  </thead>\n",
              "  <tbody>\n",
              "    <tr>\n",
              "      <th>0</th>\n",
              "      <td>id</td>\n",
              "      <td>object</td>\n",
              "      <td>A unique LC assigned ID for the loan listing.</td>\n",
              "    </tr>\n",
              "    <tr>\n",
              "      <th>1</th>\n",
              "      <td>member_id</td>\n",
              "      <td>float64</td>\n",
              "      <td>A unique LC assigned Id for the borrower member.</td>\n",
              "    </tr>\n",
              "    <tr>\n",
              "      <th>2</th>\n",
              "      <td>loan_amnt</td>\n",
              "      <td>float64</td>\n",
              "      <td>The listed amount of the loan applied for by the borrower. If at some point in time, the credit department reduces the loan amount, then it will be reflected in this value.</td>\n",
              "    </tr>\n",
              "    <tr>\n",
              "      <th>3</th>\n",
              "      <td>funded_amnt</td>\n",
              "      <td>float64</td>\n",
              "      <td>The total amount committed to that loan at that point in time.</td>\n",
              "    </tr>\n",
              "    <tr>\n",
              "      <th>4</th>\n",
              "      <td>funded_amnt_inv</td>\n",
              "      <td>float64</td>\n",
              "      <td>The total amount committed by investors for that loan at that point in time.</td>\n",
              "    </tr>\n",
              "    <tr>\n",
              "      <th>5</th>\n",
              "      <td>term</td>\n",
              "      <td>object</td>\n",
              "      <td>The number of payments on the loan. Values are in months and can be either 36 or 60.</td>\n",
              "    </tr>\n",
              "    <tr>\n",
              "      <th>6</th>\n",
              "      <td>int_rate</td>\n",
              "      <td>object</td>\n",
              "      <td>Interest Rate on the loan</td>\n",
              "    </tr>\n",
              "    <tr>\n",
              "      <th>7</th>\n",
              "      <td>installment</td>\n",
              "      <td>float64</td>\n",
              "      <td>The monthly payment owed by the borrower if the loan originates.</td>\n",
              "    </tr>\n",
              "    <tr>\n",
              "      <th>8</th>\n",
              "      <td>grade</td>\n",
              "      <td>object</td>\n",
              "      <td>LC assigned loan grade</td>\n",
              "    </tr>\n",
              "    <tr>\n",
              "      <th>9</th>\n",
              "      <td>sub_grade</td>\n",
              "      <td>object</td>\n",
              "      <td>LC assigned loan subgrade</td>\n",
              "    </tr>\n",
              "    <tr>\n",
              "      <th>10</th>\n",
              "      <td>emp_title</td>\n",
              "      <td>object</td>\n",
              "      <td>The job title supplied by the Borrower when applying for the loan.*</td>\n",
              "    </tr>\n",
              "    <tr>\n",
              "      <th>11</th>\n",
              "      <td>emp_length</td>\n",
              "      <td>object</td>\n",
              "      <td>Employment length in years. Possible values are between 0 and 10 where 0 means less than one year and 10 means ten or more years.</td>\n",
              "    </tr>\n",
              "    <tr>\n",
              "      <th>12</th>\n",
              "      <td>home_ownership</td>\n",
              "      <td>object</td>\n",
              "      <td>The home ownership status provided by the borrower during registration or obtained from the credit report. Our values are: RENT, OWN, MORTGAGE, OTHER</td>\n",
              "    </tr>\n",
              "    <tr>\n",
              "      <th>13</th>\n",
              "      <td>annual_inc</td>\n",
              "      <td>float64</td>\n",
              "      <td>The self-reported annual income provided by the borrower during registration.</td>\n",
              "    </tr>\n",
              "    <tr>\n",
              "      <th>14</th>\n",
              "      <td>verification_status</td>\n",
              "      <td>object</td>\n",
              "      <td>Indicates if income was verified by LC, not verified, or if the income source was verified</td>\n",
              "    </tr>\n",
              "    <tr>\n",
              "      <th>15</th>\n",
              "      <td>issue_d</td>\n",
              "      <td>object</td>\n",
              "      <td>The month which the loan was funded</td>\n",
              "    </tr>\n",
              "    <tr>\n",
              "      <th>16</th>\n",
              "      <td>loan_status</td>\n",
              "      <td>object</td>\n",
              "      <td>Current status of the loan</td>\n",
              "    </tr>\n",
              "    <tr>\n",
              "      <th>17</th>\n",
              "      <td>pymnt_plan</td>\n",
              "      <td>object</td>\n",
              "      <td>Indicates if a payment plan has been put in place for the loan</td>\n",
              "    </tr>\n",
              "    <tr>\n",
              "      <th>18</th>\n",
              "      <td>url</td>\n",
              "      <td>float64</td>\n",
              "      <td>URL for the LC page with listing data.</td>\n",
              "    </tr>\n",
              "    <tr>\n",
              "      <th>19</th>\n",
              "      <td>desc</td>\n",
              "      <td>object</td>\n",
              "      <td>Loan description provided by the borrower</td>\n",
              "    </tr>\n",
              "    <tr>\n",
              "      <th>20</th>\n",
              "      <td>purpose</td>\n",
              "      <td>object</td>\n",
              "      <td>A category provided by the borrower for the loan request.</td>\n",
              "    </tr>\n",
              "    <tr>\n",
              "      <th>21</th>\n",
              "      <td>title</td>\n",
              "      <td>object</td>\n",
              "      <td>The loan title provided by the borrower</td>\n",
              "    </tr>\n",
              "    <tr>\n",
              "      <th>22</th>\n",
              "      <td>zip_code</td>\n",
              "      <td>object</td>\n",
              "      <td>The first 3 numbers of the zip code provided by the borrower in the loan application.</td>\n",
              "    </tr>\n",
              "    <tr>\n",
              "      <th>23</th>\n",
              "      <td>addr_state</td>\n",
              "      <td>object</td>\n",
              "      <td>The state provided by the borrower in the loan application</td>\n",
              "    </tr>\n",
              "    <tr>\n",
              "      <th>24</th>\n",
              "      <td>dti</td>\n",
              "      <td>float64</td>\n",
              "      <td>A ratio calculated using the borrowers total monthly debt payments on the total debt obligations, excluding mortgage and the requested LC loan, divided by the borrowers self-reported monthly income.</td>\n",
              "    </tr>\n",
              "    <tr>\n",
              "      <th>25</th>\n",
              "      <td>delinq_2yrs</td>\n",
              "      <td>float64</td>\n",
              "      <td>The number of 30+ days past-due incidences of delinquency in the borrower's credit file for the past 2 years</td>\n",
              "    </tr>\n",
              "    <tr>\n",
              "      <th>26</th>\n",
              "      <td>earliest_cr_line</td>\n",
              "      <td>object</td>\n",
              "      <td>The month the borrower's earliest reported credit line was opened</td>\n",
              "    </tr>\n",
              "    <tr>\n",
              "      <th>27</th>\n",
              "      <td>inq_last_6mths</td>\n",
              "      <td>float64</td>\n",
              "      <td>The number of inquiries in past 6 months (excluding auto and mortgage inquiries)</td>\n",
              "    </tr>\n",
              "    <tr>\n",
              "      <th>28</th>\n",
              "      <td>mths_since_last_delinq</td>\n",
              "      <td>float64</td>\n",
              "      <td>The number of months since the borrower's last delinquency.</td>\n",
              "    </tr>\n",
              "    <tr>\n",
              "      <th>29</th>\n",
              "      <td>mths_since_last_record</td>\n",
              "      <td>float64</td>\n",
              "      <td>The number of months since the last public record.</td>\n",
              "    </tr>\n",
              "    <tr>\n",
              "      <th>30</th>\n",
              "      <td>open_acc</td>\n",
              "      <td>float64</td>\n",
              "      <td>The number of open credit lines in the borrower's credit file.</td>\n",
              "    </tr>\n",
              "    <tr>\n",
              "      <th>31</th>\n",
              "      <td>pub_rec</td>\n",
              "      <td>float64</td>\n",
              "      <td>Number of derogatory public records</td>\n",
              "    </tr>\n",
              "    <tr>\n",
              "      <th>32</th>\n",
              "      <td>revol_bal</td>\n",
              "      <td>float64</td>\n",
              "      <td>Total credit revolving balance</td>\n",
              "    </tr>\n",
              "    <tr>\n",
              "      <th>33</th>\n",
              "      <td>revol_util</td>\n",
              "      <td>object</td>\n",
              "      <td>Revolving line utilization rate, or the amount of credit the borrower is using relative to all available revolving credit.</td>\n",
              "    </tr>\n",
              "    <tr>\n",
              "      <th>34</th>\n",
              "      <td>total_acc</td>\n",
              "      <td>float64</td>\n",
              "      <td>The total number of credit lines currently in the borrower's credit file</td>\n",
              "    </tr>\n",
              "    <tr>\n",
              "      <th>35</th>\n",
              "      <td>initial_list_status</td>\n",
              "      <td>object</td>\n",
              "      <td>The initial listing status of the loan. Possible values are  W, F</td>\n",
              "    </tr>\n",
              "    <tr>\n",
              "      <th>36</th>\n",
              "      <td>out_prncp</td>\n",
              "      <td>float64</td>\n",
              "      <td>Remaining outstanding principal for total amount funded</td>\n",
              "    </tr>\n",
              "    <tr>\n",
              "      <th>37</th>\n",
              "      <td>out_prncp_inv</td>\n",
              "      <td>float64</td>\n",
              "      <td>Remaining outstanding principal for portion of total amount funded by investors</td>\n",
              "    </tr>\n",
              "    <tr>\n",
              "      <th>38</th>\n",
              "      <td>total_pymnt</td>\n",
              "      <td>float64</td>\n",
              "      <td>Payments received to date for total amount funded</td>\n",
              "    </tr>\n",
              "    <tr>\n",
              "      <th>39</th>\n",
              "      <td>total_pymnt_inv</td>\n",
              "      <td>float64</td>\n",
              "      <td>Payments received to date for portion of total amount funded by investors</td>\n",
              "    </tr>\n",
              "    <tr>\n",
              "      <th>40</th>\n",
              "      <td>total_rec_prncp</td>\n",
              "      <td>float64</td>\n",
              "      <td>Principal received to date</td>\n",
              "    </tr>\n",
              "    <tr>\n",
              "      <th>41</th>\n",
              "      <td>total_rec_int</td>\n",
              "      <td>float64</td>\n",
              "      <td>Interest received to date</td>\n",
              "    </tr>\n",
              "    <tr>\n",
              "      <th>42</th>\n",
              "      <td>total_rec_late_fee</td>\n",
              "      <td>float64</td>\n",
              "      <td>Late fees received to date</td>\n",
              "    </tr>\n",
              "    <tr>\n",
              "      <th>43</th>\n",
              "      <td>recoveries</td>\n",
              "      <td>float64</td>\n",
              "      <td>post charge off gross recovery</td>\n",
              "    </tr>\n",
              "    <tr>\n",
              "      <th>44</th>\n",
              "      <td>collection_recovery_fee</td>\n",
              "      <td>float64</td>\n",
              "      <td>post charge off collection fee</td>\n",
              "    </tr>\n",
              "    <tr>\n",
              "      <th>45</th>\n",
              "      <td>last_pymnt_d</td>\n",
              "      <td>object</td>\n",
              "      <td>Last month payment was received</td>\n",
              "    </tr>\n",
              "    <tr>\n",
              "      <th>46</th>\n",
              "      <td>last_pymnt_amnt</td>\n",
              "      <td>float64</td>\n",
              "      <td>Last total payment amount received</td>\n",
              "    </tr>\n",
              "    <tr>\n",
              "      <th>47</th>\n",
              "      <td>next_pymnt_d</td>\n",
              "      <td>object</td>\n",
              "      <td>Next scheduled payment date</td>\n",
              "    </tr>\n",
              "    <tr>\n",
              "      <th>48</th>\n",
              "      <td>last_credit_pull_d</td>\n",
              "      <td>object</td>\n",
              "      <td>The most recent month LC pulled credit for this loan</td>\n",
              "    </tr>\n",
              "    <tr>\n",
              "      <th>49</th>\n",
              "      <td>collections_12_mths_ex_med</td>\n",
              "      <td>float64</td>\n",
              "      <td>Number of collections in 12 months excluding medical collections</td>\n",
              "    </tr>\n",
              "    <tr>\n",
              "      <th>50</th>\n",
              "      <td>mths_since_last_major_derog</td>\n",
              "      <td>float64</td>\n",
              "      <td>Months since most recent 90-day or worse rating</td>\n",
              "    </tr>\n",
              "    <tr>\n",
              "      <th>51</th>\n",
              "      <td>policy_code</td>\n",
              "      <td>float64</td>\n",
              "      <td>publicly available policy_code=1\\Nnew products not publicly available policy_code=2publicly available policy_code=1\\Nnew products not publicly available policy_code=2publicly available policy_code=1\\nnew products not publicly available policy_code=2publicly available policy_code=1\\nnew products not publicly available policy_code=2publicly available policy_code=1\\nnew products not publicly available policy_code=2</td>\n",
              "    </tr>\n",
              "    <tr>\n",
              "      <th>52</th>\n",
              "      <td>application_type</td>\n",
              "      <td>object</td>\n",
              "      <td>Indicates whether the loan is an individual application or a joint application with two co-borrowers</td>\n",
              "    </tr>\n",
              "    <tr>\n",
              "      <th>53</th>\n",
              "      <td>annual_inc_joint</td>\n",
              "      <td>float64</td>\n",
              "      <td>The combined self-reported annual income provided by the co-borrowers during registration</td>\n",
              "    </tr>\n",
              "    <tr>\n",
              "      <th>54</th>\n",
              "      <td>dti_joint</td>\n",
              "      <td>float64</td>\n",
              "      <td>A ratio calculated using the co-borrowers' total monthly payments on the total debt obligations, excluding mortgages and the requested LC loan, divided by the co-borrowers' combined self-reported monthly income</td>\n",
              "    </tr>\n",
              "    <tr>\n",
              "      <th>55</th>\n",
              "      <td>acc_now_delinq</td>\n",
              "      <td>float64</td>\n",
              "      <td>The number of accounts on which the borrower is now delinquent.</td>\n",
              "    </tr>\n",
              "    <tr>\n",
              "      <th>56</th>\n",
              "      <td>tot_coll_amt</td>\n",
              "      <td>float64</td>\n",
              "      <td>Total collection amounts ever owed</td>\n",
              "    </tr>\n",
              "    <tr>\n",
              "      <th>57</th>\n",
              "      <td>tot_cur_bal</td>\n",
              "      <td>float64</td>\n",
              "      <td>Total current balance of all accounts</td>\n",
              "    </tr>\n",
              "    <tr>\n",
              "      <th>58</th>\n",
              "      <td>open_acc_6m</td>\n",
              "      <td>float64</td>\n",
              "      <td>Number of open trades in last 6 months</td>\n",
              "    </tr>\n",
              "    <tr>\n",
              "      <th>59</th>\n",
              "      <td>open_act_il</td>\n",
              "      <td>float64</td>\n",
              "      <td>Number of currently active installment trades</td>\n",
              "    </tr>\n",
              "    <tr>\n",
              "      <th>60</th>\n",
              "      <td>open_il_12m</td>\n",
              "      <td>float64</td>\n",
              "      <td>Number of installment accounts opened in past 12 months</td>\n",
              "    </tr>\n",
              "    <tr>\n",
              "      <th>61</th>\n",
              "      <td>open_il_24m</td>\n",
              "      <td>float64</td>\n",
              "      <td>Number of installment accounts opened in past 24 months</td>\n",
              "    </tr>\n",
              "    <tr>\n",
              "      <th>62</th>\n",
              "      <td>mths_since_rcnt_il</td>\n",
              "      <td>float64</td>\n",
              "      <td>Months since most recent installment accounts opened</td>\n",
              "    </tr>\n",
              "    <tr>\n",
              "      <th>63</th>\n",
              "      <td>total_bal_il</td>\n",
              "      <td>float64</td>\n",
              "      <td>Total current balance of all installment accounts</td>\n",
              "    </tr>\n",
              "    <tr>\n",
              "      <th>64</th>\n",
              "      <td>il_util</td>\n",
              "      <td>float64</td>\n",
              "      <td>Ratio of total current balance to high credit/credit limit on all install acct</td>\n",
              "    </tr>\n",
              "    <tr>\n",
              "      <th>65</th>\n",
              "      <td>open_rv_12m</td>\n",
              "      <td>float64</td>\n",
              "      <td>Number of revolving trades opened in past 12 months</td>\n",
              "    </tr>\n",
              "    <tr>\n",
              "      <th>66</th>\n",
              "      <td>open_rv_24m</td>\n",
              "      <td>float64</td>\n",
              "      <td>Number of revolving trades opened in past 24 months</td>\n",
              "    </tr>\n",
              "    <tr>\n",
              "      <th>67</th>\n",
              "      <td>max_bal_bc</td>\n",
              "      <td>float64</td>\n",
              "      <td>Maximum current balance owed on all revolving accounts</td>\n",
              "    </tr>\n",
              "    <tr>\n",
              "      <th>68</th>\n",
              "      <td>all_util</td>\n",
              "      <td>float64</td>\n",
              "      <td>Balance to credit limit on all trades</td>\n",
              "    </tr>\n",
              "    <tr>\n",
              "      <th>69</th>\n",
              "      <td>inq_fi</td>\n",
              "      <td>float64</td>\n",
              "      <td>Number of personal finance inquiries</td>\n",
              "    </tr>\n",
              "    <tr>\n",
              "      <th>70</th>\n",
              "      <td>total_cu_tl</td>\n",
              "      <td>float64</td>\n",
              "      <td>Number of finance trades</td>\n",
              "    </tr>\n",
              "    <tr>\n",
              "      <th>71</th>\n",
              "      <td>inq_last_12m</td>\n",
              "      <td>float64</td>\n",
              "      <td>Number of credit inquiries in past 12 months</td>\n",
              "    </tr>\n",
              "    <tr>\n",
              "      <th>72</th>\n",
              "      <td>acc_open_past_24mths</td>\n",
              "      <td>float64</td>\n",
              "      <td>Number of trades opened in past 24 months.</td>\n",
              "    </tr>\n",
              "    <tr>\n",
              "      <th>73</th>\n",
              "      <td>avg_cur_bal</td>\n",
              "      <td>float64</td>\n",
              "      <td>Average current balance of all accounts</td>\n",
              "    </tr>\n",
              "    <tr>\n",
              "      <th>74</th>\n",
              "      <td>bc_open_to_buy</td>\n",
              "      <td>float64</td>\n",
              "      <td>Total open to buy on revolving bankcards.</td>\n",
              "    </tr>\n",
              "    <tr>\n",
              "      <th>75</th>\n",
              "      <td>bc_util</td>\n",
              "      <td>float64</td>\n",
              "      <td>Ratio of total current balance to high credit/credit limit for all bankcard accounts.</td>\n",
              "    </tr>\n",
              "    <tr>\n",
              "      <th>76</th>\n",
              "      <td>chargeoff_within_12_mths</td>\n",
              "      <td>float64</td>\n",
              "      <td>Number of charge-offs within 12 months</td>\n",
              "    </tr>\n",
              "    <tr>\n",
              "      <th>77</th>\n",
              "      <td>delinq_amnt</td>\n",
              "      <td>float64</td>\n",
              "      <td>The past-due amount owed for the accounts on which the borrower is now delinquent.</td>\n",
              "    </tr>\n",
              "    <tr>\n",
              "      <th>78</th>\n",
              "      <td>mo_sin_old_il_acct</td>\n",
              "      <td>float64</td>\n",
              "      <td>Months since oldest bank installment account opened</td>\n",
              "    </tr>\n",
              "    <tr>\n",
              "      <th>79</th>\n",
              "      <td>mo_sin_old_rev_tl_op</td>\n",
              "      <td>float64</td>\n",
              "      <td>Months since oldest revolving account opened</td>\n",
              "    </tr>\n",
              "    <tr>\n",
              "      <th>80</th>\n",
              "      <td>mo_sin_rcnt_rev_tl_op</td>\n",
              "      <td>float64</td>\n",
              "      <td>Months since most recent revolving account opened</td>\n",
              "    </tr>\n",
              "    <tr>\n",
              "      <th>81</th>\n",
              "      <td>mo_sin_rcnt_tl</td>\n",
              "      <td>float64</td>\n",
              "      <td>Months since most recent account opened</td>\n",
              "    </tr>\n",
              "    <tr>\n",
              "      <th>82</th>\n",
              "      <td>mort_acc</td>\n",
              "      <td>float64</td>\n",
              "      <td>Number of mortgage accounts.</td>\n",
              "    </tr>\n",
              "    <tr>\n",
              "      <th>83</th>\n",
              "      <td>mths_since_recent_bc</td>\n",
              "      <td>float64</td>\n",
              "      <td>Months since most recent bankcard account opened.</td>\n",
              "    </tr>\n",
              "    <tr>\n",
              "      <th>84</th>\n",
              "      <td>mths_since_recent_bc_dlq</td>\n",
              "      <td>float64</td>\n",
              "      <td>Months since most recent bankcard delinquency</td>\n",
              "    </tr>\n",
              "    <tr>\n",
              "      <th>85</th>\n",
              "      <td>mths_since_recent_inq</td>\n",
              "      <td>float64</td>\n",
              "      <td>Months since most recent inquiry.</td>\n",
              "    </tr>\n",
              "    <tr>\n",
              "      <th>86</th>\n",
              "      <td>mths_since_recent_revol_delinq</td>\n",
              "      <td>float64</td>\n",
              "      <td>Months since most recent revolving delinquency.</td>\n",
              "    </tr>\n",
              "    <tr>\n",
              "      <th>87</th>\n",
              "      <td>num_accts_ever_120_pd</td>\n",
              "      <td>float64</td>\n",
              "      <td>Number of accounts ever 120 or more days past due</td>\n",
              "    </tr>\n",
              "    <tr>\n",
              "      <th>88</th>\n",
              "      <td>num_actv_bc_tl</td>\n",
              "      <td>float64</td>\n",
              "      <td>Number of currently active bankcard accounts</td>\n",
              "    </tr>\n",
              "    <tr>\n",
              "      <th>89</th>\n",
              "      <td>num_actv_rev_tl</td>\n",
              "      <td>float64</td>\n",
              "      <td>Number of currently active revolving trades</td>\n",
              "    </tr>\n",
              "    <tr>\n",
              "      <th>90</th>\n",
              "      <td>num_bc_sats</td>\n",
              "      <td>float64</td>\n",
              "      <td>Number of satisfactory bankcard accounts</td>\n",
              "    </tr>\n",
              "    <tr>\n",
              "      <th>91</th>\n",
              "      <td>num_bc_tl</td>\n",
              "      <td>float64</td>\n",
              "      <td>Number of bankcard accounts</td>\n",
              "    </tr>\n",
              "    <tr>\n",
              "      <th>92</th>\n",
              "      <td>num_il_tl</td>\n",
              "      <td>float64</td>\n",
              "      <td>Number of installment accounts</td>\n",
              "    </tr>\n",
              "    <tr>\n",
              "      <th>93</th>\n",
              "      <td>num_op_rev_tl</td>\n",
              "      <td>float64</td>\n",
              "      <td>Number of open revolving accounts</td>\n",
              "    </tr>\n",
              "    <tr>\n",
              "      <th>94</th>\n",
              "      <td>num_rev_accts</td>\n",
              "      <td>float64</td>\n",
              "      <td>Number of revolving accounts</td>\n",
              "    </tr>\n",
              "    <tr>\n",
              "      <th>95</th>\n",
              "      <td>num_rev_tl_bal_gt_0</td>\n",
              "      <td>float64</td>\n",
              "      <td>Number of revolving trades with balance &gt;0</td>\n",
              "    </tr>\n",
              "    <tr>\n",
              "      <th>96</th>\n",
              "      <td>num_sats</td>\n",
              "      <td>float64</td>\n",
              "      <td>Number of satisfactory accounts</td>\n",
              "    </tr>\n",
              "    <tr>\n",
              "      <th>97</th>\n",
              "      <td>num_tl_120dpd_2m</td>\n",
              "      <td>float64</td>\n",
              "      <td>Number of accounts currently 120 days past due (updated in past 2 months)</td>\n",
              "    </tr>\n",
              "    <tr>\n",
              "      <th>98</th>\n",
              "      <td>num_tl_30dpd</td>\n",
              "      <td>float64</td>\n",
              "      <td>Number of accounts currently 30 days past due (updated in past 2 months)</td>\n",
              "    </tr>\n",
              "    <tr>\n",
              "      <th>99</th>\n",
              "      <td>num_tl_90g_dpd_24m</td>\n",
              "      <td>float64</td>\n",
              "      <td>Number of accounts 90 or more days past due in last 24 months</td>\n",
              "    </tr>\n",
              "    <tr>\n",
              "      <th>100</th>\n",
              "      <td>num_tl_op_past_12m</td>\n",
              "      <td>float64</td>\n",
              "      <td>Number of accounts opened in past 12 months</td>\n",
              "    </tr>\n",
              "    <tr>\n",
              "      <th>101</th>\n",
              "      <td>pct_tl_nvr_dlq</td>\n",
              "      <td>float64</td>\n",
              "      <td>Percent of trades never delinquent</td>\n",
              "    </tr>\n",
              "    <tr>\n",
              "      <th>102</th>\n",
              "      <td>percent_bc_gt_75</td>\n",
              "      <td>float64</td>\n",
              "      <td>Percentage of all bankcard accounts &gt; 75% of limit.</td>\n",
              "    </tr>\n",
              "    <tr>\n",
              "      <th>103</th>\n",
              "      <td>pub_rec_bankruptcies</td>\n",
              "      <td>float64</td>\n",
              "      <td>Number of public record bankruptcies</td>\n",
              "    </tr>\n",
              "    <tr>\n",
              "      <th>104</th>\n",
              "      <td>tax_liens</td>\n",
              "      <td>float64</td>\n",
              "      <td>Number of tax liens</td>\n",
              "    </tr>\n",
              "    <tr>\n",
              "      <th>105</th>\n",
              "      <td>tot_hi_cred_lim</td>\n",
              "      <td>float64</td>\n",
              "      <td>Total high credit/credit limit</td>\n",
              "    </tr>\n",
              "    <tr>\n",
              "      <th>106</th>\n",
              "      <td>total_bal_ex_mort</td>\n",
              "      <td>float64</td>\n",
              "      <td>Total credit balance excluding mortgage</td>\n",
              "    </tr>\n",
              "    <tr>\n",
              "      <th>107</th>\n",
              "      <td>total_bc_limit</td>\n",
              "      <td>float64</td>\n",
              "      <td>Total bankcard high credit/credit limit</td>\n",
              "    </tr>\n",
              "    <tr>\n",
              "      <th>108</th>\n",
              "      <td>total_il_high_credit_limit</td>\n",
              "      <td>float64</td>\n",
              "      <td>Total installment high credit/credit limit</td>\n",
              "    </tr>\n",
              "    <tr>\n",
              "      <th>109</th>\n",
              "      <td>sec_app_open_act_il</td>\n",
              "      <td>float64</td>\n",
              "      <td>Number of currently active installment trades at time of application for the secondary applicant</td>\n",
              "    </tr>\n",
              "    <tr>\n",
              "      <th>110</th>\n",
              "      <td>hardship_flag</td>\n",
              "      <td>object</td>\n",
              "      <td>Flags whether or not the borrower is on a hardship plan</td>\n",
              "    </tr>\n",
              "    <tr>\n",
              "      <th>111</th>\n",
              "      <td>hardship_type</td>\n",
              "      <td>object</td>\n",
              "      <td>Describes the hardship plan offering</td>\n",
              "    </tr>\n",
              "    <tr>\n",
              "      <th>112</th>\n",
              "      <td>hardship_reason</td>\n",
              "      <td>object</td>\n",
              "      <td>Describes the reason the hardship plan was offered</td>\n",
              "    </tr>\n",
              "    <tr>\n",
              "      <th>113</th>\n",
              "      <td>hardship_status</td>\n",
              "      <td>object</td>\n",
              "      <td>Describes if the hardship plan is active, pending, canceled, completed, or broken</td>\n",
              "    </tr>\n",
              "    <tr>\n",
              "      <th>114</th>\n",
              "      <td>deferral_term</td>\n",
              "      <td>float64</td>\n",
              "      <td>Amount of months that the borrower is expected to pay less than the contractual monthly payment amount due to a hardship plan</td>\n",
              "    </tr>\n",
              "    <tr>\n",
              "      <th>115</th>\n",
              "      <td>hardship_amount</td>\n",
              "      <td>float64</td>\n",
              "      <td>The interest payment that the borrower has committed to make each month while they are on a hardship plan</td>\n",
              "    </tr>\n",
              "    <tr>\n",
              "      <th>116</th>\n",
              "      <td>hardship_start_date</td>\n",
              "      <td>object</td>\n",
              "      <td>The start date of the hardship plan period</td>\n",
              "    </tr>\n",
              "    <tr>\n",
              "      <th>117</th>\n",
              "      <td>hardship_end_date</td>\n",
              "      <td>object</td>\n",
              "      <td>The end date of the hardship plan period</td>\n",
              "    </tr>\n",
              "    <tr>\n",
              "      <th>118</th>\n",
              "      <td>payment_plan_start_date</td>\n",
              "      <td>object</td>\n",
              "      <td>The day the first hardship plan payment is due. For example, if a borrower has a hardship plan period of 3 months, the start date is the start of the three-month period in which the borrower is allowed to make interest-only payments.</td>\n",
              "    </tr>\n",
              "    <tr>\n",
              "      <th>119</th>\n",
              "      <td>hardship_length</td>\n",
              "      <td>float64</td>\n",
              "      <td>The number of months the borrower will make smaller payments than normally obligated due to a hardship plan</td>\n",
              "    </tr>\n",
              "    <tr>\n",
              "      <th>120</th>\n",
              "      <td>hardship_dpd</td>\n",
              "      <td>float64</td>\n",
              "      <td>Account days past due as of the hardship plan start date</td>\n",
              "    </tr>\n",
              "    <tr>\n",
              "      <th>121</th>\n",
              "      <td>hardship_loan_status</td>\n",
              "      <td>object</td>\n",
              "      <td>Loan Status as of the hardship plan start date</td>\n",
              "    </tr>\n",
              "    <tr>\n",
              "      <th>122</th>\n",
              "      <td>orig_projected_additional_accrued_interest</td>\n",
              "      <td>float64</td>\n",
              "      <td>The original projected additional interest amount that will accrue for the given hardship payment plan as of the Hardship Start Date. This field will be null if the borrower has broken their hardship payment plan.</td>\n",
              "    </tr>\n",
              "    <tr>\n",
              "      <th>123</th>\n",
              "      <td>hardship_payoff_balance_amount</td>\n",
              "      <td>float64</td>\n",
              "      <td>The payoff balance amount as of the hardship plan start date</td>\n",
              "    </tr>\n",
              "    <tr>\n",
              "      <th>124</th>\n",
              "      <td>hardship_last_payment_amount</td>\n",
              "      <td>float64</td>\n",
              "      <td>The last payment amount as of the hardship plan start date</td>\n",
              "    </tr>\n",
              "    <tr>\n",
              "      <th>125</th>\n",
              "      <td>disbursement_method</td>\n",
              "      <td>object</td>\n",
              "      <td>The method by which the borrower receives their loan. Possible values are: CASH, DIRECT_PAY</td>\n",
              "    </tr>\n",
              "    <tr>\n",
              "      <th>126</th>\n",
              "      <td>debt_settlement_flag</td>\n",
              "      <td>object</td>\n",
              "      <td>Flags whether or not the borrower, who has charged-off, is working with a debt-settlement company.</td>\n",
              "    </tr>\n",
              "    <tr>\n",
              "      <th>127</th>\n",
              "      <td>debt_settlement_flag_date</td>\n",
              "      <td>object</td>\n",
              "      <td>The most recent date that the Debt_Settlement_Flag has been set</td>\n",
              "    </tr>\n",
              "    <tr>\n",
              "      <th>128</th>\n",
              "      <td>settlement_status</td>\n",
              "      <td>object</td>\n",
              "      <td>The status of the borrowers settlement plan. Possible values are: COMPLETE, ACTIVE, BROKEN, CANCELLED, DENIED, DRAFT</td>\n",
              "    </tr>\n",
              "    <tr>\n",
              "      <th>129</th>\n",
              "      <td>settlement_date</td>\n",
              "      <td>object</td>\n",
              "      <td>The date that the borrower agrees to the settlement plan</td>\n",
              "    </tr>\n",
              "    <tr>\n",
              "      <th>130</th>\n",
              "      <td>settlement_amount</td>\n",
              "      <td>float64</td>\n",
              "      <td>The loan amount that the borrower has agreed to settle for</td>\n",
              "    </tr>\n",
              "    <tr>\n",
              "      <th>131</th>\n",
              "      <td>settlement_percentage</td>\n",
              "      <td>float64</td>\n",
              "      <td>The settlement amount as a percentage of the payoff balance amount on the loan</td>\n",
              "    </tr>\n",
              "    <tr>\n",
              "      <th>132</th>\n",
              "      <td>settlement_term</td>\n",
              "      <td>float64</td>\n",
              "      <td>The number of months that the borrower will be on the settlement plan</td>\n",
              "    </tr>\n",
              "  </tbody>\n",
              "</table>"
            ],
            "text/plain": [
              "<IPython.core.display.HTML object>"
            ]
          },
          "metadata": {
            "tags": []
          }
        }
      ]
    },
    {
      "metadata": {
        "colab_type": "text",
        "id": "zSzeNz6USUr8"
      },
      "cell_type": "markdown",
      "source": [
        "## Rejected Loans\n",
        "\n",
        "We load all loans rejected (not funded) on the LendingClub marketplace from 2007 to 2018 Q3 for a period of 11.5 years into the dataframe `df_loan_rejected`."
      ]
    },
    {
      "metadata": {
        "id": "vymL7oqYrZNk",
        "colab_type": "code",
        "colab": {}
      },
      "cell_type": "code",
      "source": [
        "df_loan_rejected = pd.read_csv('data/RejectStatsA.csv', skiprows=(1))"
      ],
      "execution_count": 0,
      "outputs": []
    },
    {
      "metadata": {
        "id": "l3zZNLOArZNu",
        "colab_type": "code",
        "colab": {},
        "outputId": "dc83c182-5558-4a7e-cb6e-79640dab85a9"
      },
      "cell_type": "code",
      "source": [
        "df_loan_rejected.shape"
      ],
      "execution_count": 0,
      "outputs": [
        {
          "output_type": "execute_result",
          "data": {
            "text/plain": [
              "(755491, 9)"
            ]
          },
          "metadata": {
            "tags": []
          },
          "execution_count": 269
        }
      ]
    },
    {
      "metadata": {
        "id": "YOt1hmEyrZOA",
        "colab_type": "text"
      },
      "cell_type": "markdown",
      "source": [
        "There are approximately 22 millions of rejected loans, each of them has 9 features."
      ]
    },
    {
      "metadata": {
        "id": "OKFH_050rZOG",
        "colab_type": "code",
        "colab": {},
        "outputId": "11c8d681-fe2d-45d1-b132-318c6de916bc"
      },
      "cell_type": "code",
      "source": [
        "df_loan_rejected.describe()"
      ],
      "execution_count": 0,
      "outputs": [
        {
          "output_type": "execute_result",
          "data": {
            "text/html": [
              "<div>\n",
              "<style scoped>\n",
              "    .dataframe tbody tr th:only-of-type {\n",
              "        vertical-align: middle;\n",
              "    }\n",
              "\n",
              "    .dataframe tbody tr th {\n",
              "        vertical-align: top;\n",
              "    }\n",
              "\n",
              "    .dataframe thead th {\n",
              "        text-align: right;\n",
              "    }\n",
              "</style>\n",
              "<table border=\"1\" class=\"dataframe\">\n",
              "  <thead>\n",
              "    <tr style=\"text-align: right;\">\n",
              "      <th></th>\n",
              "      <th>Amount Requested</th>\n",
              "      <th>Risk_Score</th>\n",
              "      <th>Policy Code</th>\n",
              "    </tr>\n",
              "  </thead>\n",
              "  <tbody>\n",
              "    <tr>\n",
              "      <th>count</th>\n",
              "      <td>7.554910e+05</td>\n",
              "      <td>731562.000000</td>\n",
              "      <td>755491.0</td>\n",
              "    </tr>\n",
              "    <tr>\n",
              "      <th>mean</th>\n",
              "      <td>1.291072e+04</td>\n",
              "      <td>590.995754</td>\n",
              "      <td>0.0</td>\n",
              "    </tr>\n",
              "    <tr>\n",
              "      <th>std</th>\n",
              "      <td>1.068035e+04</td>\n",
              "      <td>179.254816</td>\n",
              "      <td>0.0</td>\n",
              "    </tr>\n",
              "    <tr>\n",
              "      <th>min</th>\n",
              "      <td>0.000000e+00</td>\n",
              "      <td>0.000000</td>\n",
              "      <td>0.0</td>\n",
              "    </tr>\n",
              "    <tr>\n",
              "      <th>25%</th>\n",
              "      <td>5.000000e+03</td>\n",
              "      <td>571.000000</td>\n",
              "      <td>0.0</td>\n",
              "    </tr>\n",
              "    <tr>\n",
              "      <th>50%</th>\n",
              "      <td>1.000000e+04</td>\n",
              "      <td>644.000000</td>\n",
              "      <td>0.0</td>\n",
              "    </tr>\n",
              "    <tr>\n",
              "      <th>75%</th>\n",
              "      <td>2.000000e+04</td>\n",
              "      <td>685.000000</td>\n",
              "      <td>0.0</td>\n",
              "    </tr>\n",
              "    <tr>\n",
              "      <th>max</th>\n",
              "      <td>1.400000e+06</td>\n",
              "      <td>850.000000</td>\n",
              "      <td>0.0</td>\n",
              "    </tr>\n",
              "  </tbody>\n",
              "</table>\n",
              "</div>"
            ],
            "text/plain": [
              "       Amount Requested     Risk_Score  Policy Code\n",
              "count  7.554910e+05      731562.000000  755491.0   \n",
              "mean   1.291072e+04      590.995754     0.0        \n",
              "std    1.068035e+04      179.254816     0.0        \n",
              "min    0.000000e+00      0.000000       0.0        \n",
              "25%    5.000000e+03      571.000000     0.0        \n",
              "50%    1.000000e+04      644.000000     0.0        \n",
              "75%    2.000000e+04      685.000000     0.0        \n",
              "max    1.400000e+06      850.000000     0.0        "
            ]
          },
          "metadata": {
            "tags": []
          },
          "execution_count": 270
        }
      ]
    },
    {
      "metadata": {
        "id": "ZbxOVxwkrZOW",
        "colab_type": "text"
      },
      "cell_type": "markdown",
      "source": [
        "## Census Data\n",
        "The United States Census Bureau provides data about the American people and economy. We have social, economic, and geographic data from 2016 grouped by zip code provided via Piazza by CS109a instructors.\n",
        "\n",
        "We load census data from 2016 into the dataframe `df_census`. \n"
      ]
    },
    {
      "metadata": {
        "colab_type": "code",
        "id": "Ii1HbzkPuh5u",
        "colab": {}
      },
      "cell_type": "code",
      "source": [
        "df_census = pd.read_csv('data/zipcode_demographics_2016_USA.csv')"
      ],
      "execution_count": 0,
      "outputs": []
    },
    {
      "metadata": {
        "id": "R7fBA7ksrZOk",
        "colab_type": "code",
        "colab": {},
        "outputId": "dc54b6a9-9802-4133-cd39-6c7bef9dabe4"
      },
      "cell_type": "code",
      "source": [
        "df_census.shape"
      ],
      "execution_count": 0,
      "outputs": [
        {
          "output_type": "execute_result",
          "data": {
            "text/plain": [
              "(33120, 135)"
            ]
          },
          "metadata": {
            "tags": []
          },
          "execution_count": 11
        }
      ]
    },
    {
      "metadata": {
        "id": "jUPev4POrZO6",
        "colab_type": "text"
      },
      "cell_type": "markdown",
      "source": [
        "There are 33120 zip codes, each of them described by 135 statistics."
      ]
    },
    {
      "metadata": {
        "id": "-KWDS1udrZO-",
        "colab_type": "code",
        "colab": {},
        "outputId": "4488c2af-37e7-4432-fc91-38075d75a54b"
      },
      "cell_type": "code",
      "source": [
        "df_census.describe()"
      ],
      "execution_count": 0,
      "outputs": [
        {
          "output_type": "execute_result",
          "data": {
            "text/html": [
              "<div>\n",
              "<style scoped>\n",
              "    .dataframe tbody tr th:only-of-type {\n",
              "        vertical-align: middle;\n",
              "    }\n",
              "\n",
              "    .dataframe tbody tr th {\n",
              "        vertical-align: top;\n",
              "    }\n",
              "\n",
              "    .dataframe thead th {\n",
              "        text-align: right;\n",
              "    }\n",
              "</style>\n",
              "<table border=\"1\" class=\"dataframe\">\n",
              "  <thead>\n",
              "    <tr style=\"text-align: right;\">\n",
              "      <th></th>\n",
              "      <th>Unnamed: 0</th>\n",
              "      <th>Population</th>\n",
              "      <th>zip code tabulation area</th>\n",
              "      <th>owner_renter_total</th>\n",
              "      <th>owner_occupied</th>\n",
              "      <th>renter_occupied</th>\n",
              "      <th>abroad_year_ago_total</th>\n",
              "      <th>abroad_year_ago_puerto_rico</th>\n",
              "      <th>abroad_year_ago_us_islands</th>\n",
              "      <th>abroad_year_ago_foreign</th>\n",
              "      <th>...</th>\n",
              "      <th>60_to_75k_2016_pct</th>\n",
              "      <th>75_to_100k_2016_pct</th>\n",
              "      <th>100_to_150k_2016_pct</th>\n",
              "      <th>150_to_200k_2016_pct</th>\n",
              "      <th>over_200k_2016_pct</th>\n",
              "      <th>No_Diploma_pct</th>\n",
              "      <th>High_school_pct</th>\n",
              "      <th>Some_college_pct</th>\n",
              "      <th>Bachelors_Degree_pct</th>\n",
              "      <th>Graduate_Degree_pct</th>\n",
              "    </tr>\n",
              "  </thead>\n",
              "  <tbody>\n",
              "    <tr>\n",
              "      <th>count</th>\n",
              "      <td>33120.000000</td>\n",
              "      <td>33120.000000</td>\n",
              "      <td>33120.000000</td>\n",
              "      <td>32989.000000</td>\n",
              "      <td>32989.000000</td>\n",
              "      <td>32989.000000</td>\n",
              "      <td>32989.000000</td>\n",
              "      <td>32989.000000</td>\n",
              "      <td>32989.000000</td>\n",
              "      <td>32989.000000</td>\n",
              "      <td>...</td>\n",
              "      <td>23055.000000</td>\n",
              "      <td>23055.000000</td>\n",
              "      <td>23055.000000</td>\n",
              "      <td>23055.000000</td>\n",
              "      <td>23055.000000</td>\n",
              "      <td>32765.000000</td>\n",
              "      <td>32765.000000</td>\n",
              "      <td>32765.000000</td>\n",
              "      <td>32765.000000</td>\n",
              "      <td>32765.000000</td>\n",
              "    </tr>\n",
              "    <tr>\n",
              "      <th>mean</th>\n",
              "      <td>16559.500000</td>\n",
              "      <td>9724.409300</td>\n",
              "      <td>49666.334209</td>\n",
              "      <td>9298.151808</td>\n",
              "      <td>6073.192549</td>\n",
              "      <td>3224.959259</td>\n",
              "      <td>61.003031</td>\n",
              "      <td>2.476250</td>\n",
              "      <td>0.529843</td>\n",
              "      <td>57.996938</td>\n",
              "      <td>...</td>\n",
              "      <td>0.098562</td>\n",
              "      <td>0.107134</td>\n",
              "      <td>0.097093</td>\n",
              "      <td>0.034172</td>\n",
              "      <td>0.032929</td>\n",
              "      <td>0.010476</td>\n",
              "      <td>0.290389</td>\n",
              "      <td>0.232441</td>\n",
              "      <td>0.148160</td>\n",
              "      <td>0.084170</td>\n",
              "    </tr>\n",
              "    <tr>\n",
              "      <th>std</th>\n",
              "      <td>9561.064794</td>\n",
              "      <td>14358.657599</td>\n",
              "      <td>27564.925769</td>\n",
              "      <td>13855.431955</td>\n",
              "      <td>8730.614992</td>\n",
              "      <td>6313.579477</td>\n",
              "      <td>170.145836</td>\n",
              "      <td>21.042147</td>\n",
              "      <td>5.755175</td>\n",
              "      <td>164.081808</td>\n",
              "      <td>...</td>\n",
              "      <td>0.180024</td>\n",
              "      <td>0.188002</td>\n",
              "      <td>0.176695</td>\n",
              "      <td>0.105539</td>\n",
              "      <td>0.109215</td>\n",
              "      <td>0.019820</td>\n",
              "      <td>0.119239</td>\n",
              "      <td>0.091032</td>\n",
              "      <td>0.099925</td>\n",
              "      <td>0.086035</td>\n",
              "    </tr>\n",
              "    <tr>\n",
              "      <th>min</th>\n",
              "      <td>0.000000</td>\n",
              "      <td>0.000000</td>\n",
              "      <td>601.000000</td>\n",
              "      <td>0.000000</td>\n",
              "      <td>0.000000</td>\n",
              "      <td>0.000000</td>\n",
              "      <td>0.000000</td>\n",
              "      <td>0.000000</td>\n",
              "      <td>0.000000</td>\n",
              "      <td>0.000000</td>\n",
              "      <td>...</td>\n",
              "      <td>0.000000</td>\n",
              "      <td>0.000000</td>\n",
              "      <td>0.000000</td>\n",
              "      <td>0.000000</td>\n",
              "      <td>0.000000</td>\n",
              "      <td>0.000000</td>\n",
              "      <td>0.000000</td>\n",
              "      <td>0.000000</td>\n",
              "      <td>0.000000</td>\n",
              "      <td>0.000000</td>\n",
              "    </tr>\n",
              "    <tr>\n",
              "      <th>25%</th>\n",
              "      <td>8279.750000</td>\n",
              "      <td>718.000000</td>\n",
              "      <td>26634.750000</td>\n",
              "      <td>667.000000</td>\n",
              "      <td>501.000000</td>\n",
              "      <td>121.000000</td>\n",
              "      <td>0.000000</td>\n",
              "      <td>0.000000</td>\n",
              "      <td>0.000000</td>\n",
              "      <td>0.000000</td>\n",
              "      <td>...</td>\n",
              "      <td>0.000000</td>\n",
              "      <td>0.000000</td>\n",
              "      <td>0.000000</td>\n",
              "      <td>0.000000</td>\n",
              "      <td>0.000000</td>\n",
              "      <td>0.000000</td>\n",
              "      <td>0.218567</td>\n",
              "      <td>0.186317</td>\n",
              "      <td>0.081940</td>\n",
              "      <td>0.032538</td>\n",
              "    </tr>\n",
              "    <tr>\n",
              "      <th>50%</th>\n",
              "      <td>16559.500000</td>\n",
              "      <td>2807.500000</td>\n",
              "      <td>49739.000000</td>\n",
              "      <td>2645.000000</td>\n",
              "      <td>1984.000000</td>\n",
              "      <td>538.000000</td>\n",
              "      <td>0.000000</td>\n",
              "      <td>0.000000</td>\n",
              "      <td>0.000000</td>\n",
              "      <td>0.000000</td>\n",
              "      <td>...</td>\n",
              "      <td>0.033608</td>\n",
              "      <td>0.039894</td>\n",
              "      <td>0.018367</td>\n",
              "      <td>0.000000</td>\n",
              "      <td>0.000000</td>\n",
              "      <td>0.005961</td>\n",
              "      <td>0.288293</td>\n",
              "      <td>0.230056</td>\n",
              "      <td>0.127752</td>\n",
              "      <td>0.058981</td>\n",
              "    </tr>\n",
              "    <tr>\n",
              "      <th>75%</th>\n",
              "      <td>24839.250000</td>\n",
              "      <td>13177.750000</td>\n",
              "      <td>72123.500000</td>\n",
              "      <td>12484.000000</td>\n",
              "      <td>8334.000000</td>\n",
              "      <td>3206.000000</td>\n",
              "      <td>35.000000</td>\n",
              "      <td>0.000000</td>\n",
              "      <td>0.000000</td>\n",
              "      <td>33.000000</td>\n",
              "      <td>...</td>\n",
              "      <td>0.119956</td>\n",
              "      <td>0.133992</td>\n",
              "      <td>0.125463</td>\n",
              "      <td>0.022970</td>\n",
              "      <td>0.011533</td>\n",
              "      <td>0.013532</td>\n",
              "      <td>0.357277</td>\n",
              "      <td>0.273011</td>\n",
              "      <td>0.196078</td>\n",
              "      <td>0.106354</td>\n",
              "    </tr>\n",
              "    <tr>\n",
              "      <th>max</th>\n",
              "      <td>33119.000000</td>\n",
              "      <td>115104.000000</td>\n",
              "      <td>99929.000000</td>\n",
              "      <td>113403.000000</td>\n",
              "      <td>81331.000000</td>\n",
              "      <td>87101.000000</td>\n",
              "      <td>3661.000000</td>\n",
              "      <td>1205.000000</td>\n",
              "      <td>292.000000</td>\n",
              "      <td>3661.000000</td>\n",
              "      <td>...</td>\n",
              "      <td>1.000000</td>\n",
              "      <td>1.000000</td>\n",
              "      <td>1.000000</td>\n",
              "      <td>1.000000</td>\n",
              "      <td>1.000000</td>\n",
              "      <td>1.000000</td>\n",
              "      <td>1.000000</td>\n",
              "      <td>1.000000</td>\n",
              "      <td>1.000000</td>\n",
              "      <td>1.000000</td>\n",
              "    </tr>\n",
              "  </tbody>\n",
              "</table>\n",
              "<p>8 rows × 134 columns</p>\n",
              "</div>"
            ],
            "text/plain": [
              "         Unnamed: 0     Population  zip code tabulation area  \\\n",
              "count  33120.000000  33120.000000   33120.000000               \n",
              "mean   16559.500000  9724.409300    49666.334209               \n",
              "std    9561.064794   14358.657599   27564.925769               \n",
              "min    0.000000      0.000000       601.000000                 \n",
              "25%    8279.750000   718.000000     26634.750000               \n",
              "50%    16559.500000  2807.500000    49739.000000               \n",
              "75%    24839.250000  13177.750000   72123.500000               \n",
              "max    33119.000000  115104.000000  99929.000000               \n",
              "\n",
              "       owner_renter_total  owner_occupied  renter_occupied  \\\n",
              "count  32989.000000        32989.000000    32989.000000      \n",
              "mean   9298.151808         6073.192549     3224.959259       \n",
              "std    13855.431955        8730.614992     6313.579477       \n",
              "min    0.000000            0.000000        0.000000          \n",
              "25%    667.000000          501.000000      121.000000        \n",
              "50%    2645.000000         1984.000000     538.000000        \n",
              "75%    12484.000000        8334.000000     3206.000000       \n",
              "max    113403.000000       81331.000000    87101.000000      \n",
              "\n",
              "       abroad_year_ago_total  abroad_year_ago_puerto_rico  \\\n",
              "count  32989.000000           32989.000000                  \n",
              "mean   61.003031              2.476250                      \n",
              "std    170.145836             21.042147                     \n",
              "min    0.000000               0.000000                      \n",
              "25%    0.000000               0.000000                      \n",
              "50%    0.000000               0.000000                      \n",
              "75%    35.000000              0.000000                      \n",
              "max    3661.000000            1205.000000                   \n",
              "\n",
              "       abroad_year_ago_us_islands  abroad_year_ago_foreign  \\\n",
              "count  32989.000000                32989.000000              \n",
              "mean   0.529843                    57.996938                 \n",
              "std    5.755175                    164.081808                \n",
              "min    0.000000                    0.000000                  \n",
              "25%    0.000000                    0.000000                  \n",
              "50%    0.000000                    0.000000                  \n",
              "75%    0.000000                    33.000000                 \n",
              "max    292.000000                  3661.000000               \n",
              "\n",
              "              ...           60_to_75k_2016_pct  75_to_100k_2016_pct  \\\n",
              "count         ...           23055.000000        23055.000000          \n",
              "mean          ...           0.098562            0.107134              \n",
              "std           ...           0.180024            0.188002              \n",
              "min           ...           0.000000            0.000000              \n",
              "25%           ...           0.000000            0.000000              \n",
              "50%           ...           0.033608            0.039894              \n",
              "75%           ...           0.119956            0.133992              \n",
              "max           ...           1.000000            1.000000              \n",
              "\n",
              "       100_to_150k_2016_pct  150_to_200k_2016_pct  over_200k_2016_pct  \\\n",
              "count  23055.000000          23055.000000          23055.000000         \n",
              "mean   0.097093              0.034172              0.032929             \n",
              "std    0.176695              0.105539              0.109215             \n",
              "min    0.000000              0.000000              0.000000             \n",
              "25%    0.000000              0.000000              0.000000             \n",
              "50%    0.018367              0.000000              0.000000             \n",
              "75%    0.125463              0.022970              0.011533             \n",
              "max    1.000000              1.000000              1.000000             \n",
              "\n",
              "       No_Diploma_pct  High_school_pct  Some_college_pct  \\\n",
              "count  32765.000000    32765.000000     32765.000000       \n",
              "mean   0.010476        0.290389         0.232441           \n",
              "std    0.019820        0.119239         0.091032           \n",
              "min    0.000000        0.000000         0.000000           \n",
              "25%    0.000000        0.218567         0.186317           \n",
              "50%    0.005961        0.288293         0.230056           \n",
              "75%    0.013532        0.357277         0.273011           \n",
              "max    1.000000        1.000000         1.000000           \n",
              "\n",
              "       Bachelors_Degree_pct  Graduate_Degree_pct  \n",
              "count  32765.000000          32765.000000         \n",
              "mean   0.148160              0.084170             \n",
              "std    0.099925              0.086035             \n",
              "min    0.000000              0.000000             \n",
              "25%    0.081940              0.032538             \n",
              "50%    0.127752              0.058981             \n",
              "75%    0.196078              0.106354             \n",
              "max    1.000000              1.000000             \n",
              "\n",
              "[8 rows x 134 columns]"
            ]
          },
          "metadata": {
            "tags": []
          },
          "execution_count": 12
        }
      ]
    },
    {
      "metadata": {
        "id": "hmutIaUvrZPU",
        "colab_type": "text"
      },
      "cell_type": "markdown",
      "source": [
        "# Loan Acceptance Data Cleaning\n",
        "\n",
        "In this section we describe basic operations for cleaning our dataset.\n"
      ]
    },
    {
      "metadata": {
        "id": "IPNBkQAPrZPa",
        "colab_type": "code",
        "colab": {}
      },
      "cell_type": "code",
      "source": [
        "df_loan_accepted_cleaned = df_loan_accepted.copy()"
      ],
      "execution_count": 0,
      "outputs": []
    },
    {
      "metadata": {
        "id": "zkR7FbucrZPi",
        "colab_type": "text"
      },
      "cell_type": "markdown",
      "source": [
        "### Remove index column"
      ]
    },
    {
      "metadata": {
        "id": "fgGAugh2rZPk",
        "colab_type": "code",
        "colab": {}
      },
      "cell_type": "code",
      "source": [
        "df_loan_accepted_cleaned.drop(columns=['Unnamed: 0'], inplace=True)"
      ],
      "execution_count": 0,
      "outputs": []
    },
    {
      "metadata": {
        "id": "WW56eBd3rZP0",
        "colab_type": "text"
      },
      "cell_type": "markdown",
      "source": [
        "### Remove columns with a constant value"
      ]
    },
    {
      "metadata": {
        "id": "NLbnW5u6rZP4",
        "colab_type": "code",
        "colab": {},
        "outputId": "cfc5fd1c-2b7e-4029-bfcd-f3a3911559fe"
      },
      "cell_type": "code",
      "source": [
        "cols_unique = list(df_loan_accepted_cleaned.columns[df_loan_accepted_cleaned.nunique()==1])\n",
        "print('The following features with constant value were removed', cols_unique)\n",
        "df_loan_accepted_cleaned.drop(cols_unique, axis=1, inplace=True)\n",
        "print('{} features left, out of {} in the original dataset'.format(df_loan_accepted_cleaned.shape[1], df_loan_accepted.shape[1]))"
      ],
      "execution_count": 0,
      "outputs": [
        {
          "output_type": "stream",
          "text": [
            "The following features with constant value were removed ['policy_code', 'hardship_type', 'deferral_term', 'hardship_length']\n",
            "141 features left, out of 146 in the original dataset\n"
          ],
          "name": "stdout"
        }
      ]
    },
    {
      "metadata": {
        "id": "dE9uVdPfrZQQ",
        "colab_type": "text"
      },
      "cell_type": "markdown",
      "source": [
        "### Remove columns associated with over 90% missing values"
      ]
    },
    {
      "metadata": {
        "id": "K3cMzOverZQS",
        "colab_type": "code",
        "colab": {},
        "outputId": "fb27b8e6-fcca-4810-8b14-0e3376ecfb14"
      },
      "cell_type": "code",
      "source": [
        "df_missing = (df_loan_accepted_cleaned.isnull().sum()/df_loan_accepted_cleaned.shape[0]).to_frame('perc_missing').reset_index()\n",
        "cols_missing = list(df_missing[df_missing.perc_missing>0.9]['index'])\n",
        "print('The following features with over 90% missing values were removed.')\n",
        "print(df_missing[df_missing.perc_missing>0.9])\n",
        "df_loan_accepted_cleaned.drop(cols_missing, axis=1, inplace=True)\n",
        "print('')\n",
        "print('{} features left, out of {} in the original dataset'.format(df_loan_accepted_cleaned.shape[1], df_loan_accepted.shape[1]))"
      ],
      "execution_count": 0,
      "outputs": [
        {
          "output_type": "stream",
          "text": [
            "The following features with over 90% missing values were removed.\n",
            "                                          index  perc_missing\n",
            "0    id                                          0.999990    \n",
            "1    member_id                                   1.000000    \n",
            "18   url                                         1.000000    \n",
            "19   desc                                        0.936799    \n",
            "52   annual_inc_joint                            0.957427    \n",
            "53   dti_joint                                   0.957427    \n",
            "54   verification_status_joint                   0.957971    \n",
            "110  revol_bal_joint                             0.963744    \n",
            "111  sec_app_earliest_cr_line                    0.963744    \n",
            "112  sec_app_inq_last_6mths                      0.963744    \n",
            "113  sec_app_mort_acc                            0.963744    \n",
            "114  sec_app_open_acc                            0.963744    \n",
            "115  sec_app_revol_util                          0.964383    \n",
            "116  sec_app_open_act_il                         0.963744    \n",
            "117  sec_app_num_rev_accts                       0.963744    \n",
            "118  sec_app_chargeoff_within_12_mths            0.963744    \n",
            "119  sec_app_collections_12_mths_ex_med          0.963744    \n",
            "120  sec_app_mths_since_last_major_derog         0.987675    \n",
            "122  hardship_reason                             0.995604    \n",
            "123  hardship_status                             0.995604    \n",
            "124  hardship_amount                             0.995604    \n",
            "125  hardship_start_date                         0.995604    \n",
            "126  hardship_end_date                           0.995604    \n",
            "127  payment_plan_start_date                     0.995604    \n",
            "128  hardship_dpd                                0.995604    \n",
            "129  hardship_loan_status                        0.995604    \n",
            "130  orig_projected_additional_accrued_interest  0.996507    \n",
            "131  hardship_payoff_balance_amount              0.995604    \n",
            "132  hardship_last_payment_amount                0.995604    \n",
            "135  debt_settlement_flag_date                   0.986932    \n",
            "136  settlement_status                           0.986932    \n",
            "137  settlement_date                             0.986932    \n",
            "138  settlement_amount                           0.986932    \n",
            "139  settlement_percentage                       0.986932    \n",
            "140  settlement_term                             0.986932    \n",
            "\n",
            "106 features left, out of 146 in the original dataset\n"
          ],
          "name": "stdout"
        }
      ]
    },
    {
      "metadata": {
        "id": "FLiAWJVzrZQY",
        "colab_type": "text"
      },
      "cell_type": "markdown",
      "source": [
        "### Remove duplicate rows"
      ]
    },
    {
      "metadata": {
        "id": "hWYg-AlgrZQe",
        "colab_type": "code",
        "colab": {},
        "outputId": "7748f6b1-a46d-4b3d-80f8-cbd1160adb2f"
      },
      "cell_type": "code",
      "source": [
        "orig_rows_count = df_loan_accepted_cleaned.shape[0]\n",
        "df_loan_accepted_cleaned.drop_duplicates(inplace=True)\n",
        "print(\"{} duplicated rows were removed.\".format(orig_rows_count-df_loan_accepted_cleaned.shape[0]))"
      ],
      "execution_count": 0,
      "outputs": [
        {
          "output_type": "stream",
          "text": [
            "1 duplicated rows were removed.\n"
          ],
          "name": "stdout"
        }
      ]
    },
    {
      "metadata": {
        "id": "1BRIdH2srZQy",
        "colab_type": "text"
      },
      "cell_type": "markdown",
      "source": [
        "### Remove empty rows"
      ]
    },
    {
      "metadata": {
        "id": "tBq_oSi5rZQ2",
        "colab_type": "code",
        "colab": {},
        "outputId": "11e47e23-6399-4a4d-8f7f-f5b65658e6af"
      },
      "cell_type": "code",
      "source": [
        "orig_rows_count = df_loan_accepted_cleaned.shape[0]\n",
        "df_loan_accepted_cleaned.dropna(inplace=True, how='all')\n",
        "print(\"{} empty rows were removed.\".format(orig_rows_count-df_loan_accepted_cleaned.shape[0]))"
      ],
      "execution_count": 0,
      "outputs": [
        {
          "output_type": "stream",
          "text": [
            "1 empty rows were removed.\n"
          ],
          "name": "stdout"
        }
      ]
    },
    {
      "metadata": {
        "id": "-EBmOSP0rZRE",
        "colab_type": "text"
      },
      "cell_type": "markdown",
      "source": [
        "# More Data Cleaning"
      ]
    },
    {
      "metadata": {
        "id": "3AGKZwwjrZRG",
        "colab_type": "text"
      },
      "cell_type": "markdown",
      "source": [
        "## Variables Groups\n",
        "\n",
        "We divide the columns in the following groups:\n",
        "\n",
        "- **loan data**: information about the loan at the moment when it was requested\n",
        "- **loan followup**: information about the loan's followup throughout its term\n",
        "- **borrower demographics**: information about the borrower\n",
        "- **borrower financial profile**: financial background of the borrower at the moment when he requested the loan\n",
        "- **borrower financial profile followup**: changes in financial profile of the borrower throughout the loan term"
      ]
    },
    {
      "metadata": {
        "id": "eO4WRMq7rZRK",
        "colab_type": "code",
        "colab": {}
      },
      "cell_type": "code",
      "source": [
        "cols_loan_data = ['loan_amnt','funded_amnt','funded_amnt_inv','term','int_rate','installment','grade','sub_grade','issue_d','loan_status','purpose','title','initial_list_status','application_type','disbursement_method']\n",
        "cols_loan_followup = ['out_prncp','out_prncp_inv','total_pymnt','total_pymnt_inv','total_rec_prncp','total_rec_int','total_rec_late_fee','recoveries','collection_recovery_fee','last_pymnt_d','last_pymnt_amnt','next_pymnt_d','debt_settlement_flag','pymnt_plan']\n",
        "cols_borrower_demographics = ['emp_title','emp_length','home_ownership','annual_inc','verification_status', 'zip_code','addr_state']\n",
        "cols_borrower_finance_profile = ['dti','delinq_2yrs','earliest_cr_line','inq_last_6mths','mths_since_last_delinq','mths_since_last_record','open_acc','pub_rec','revol_bal','revol_util','total_acc','tot_coll_amt','mort_acc','num_bc_sats','num_bc_tl','num_il_tl','num_op_rev_tl','num_rev_accts','num_rev_tl_bal_gt_0','num_sats','pct_tl_nvr_dlq','percent_bc_gt_75','pub_rec_bankruptcies','tax_liens','tot_hi_cred_lim','total_bal_ex_mort','total_bc_limit','total_il_high_credit_limit','hardship_flag']\n",
        "cols_borrower_finance_profile_followup = ['last_credit_pull_d','collections_12_mths_ex_med','mths_since_last_major_derog','acc_now_delinq','tot_cur_bal','open_acc_6m','open_act_il','open_il_12m','open_il_24m','mths_since_rcnt_il','total_bal_il','il_util','open_rv_12m','open_rv_24m','max_bal_bc','all_util','total_rev_hi_lim','inq_fi','total_cu_tl','inq_last_12m','acc_open_past_24mths','avg_cur_bal','bc_open_to_buy','bc_util','chargeoff_within_12_mths','delinq_amnt','mo_sin_old_il_acct','mo_sin_old_rev_tl_op','mo_sin_rcnt_rev_tl_op','mo_sin_rcnt_tl','mths_since_recent_bc','mths_since_recent_bc_dlq','mths_since_recent_inq','mths_since_recent_revol_delinq','num_accts_ever_120_pd','num_actv_bc_tl','num_actv_rev_tl','num_tl_120dpd_2m','num_tl_30dpd','num_tl_90g_dpd_24m','num_tl_op_past_12m']"
      ],
      "execution_count": 0,
      "outputs": []
    },
    {
      "metadata": {
        "id": "Q0Ylr2p9rZRQ",
        "colab_type": "text"
      },
      "cell_type": "markdown",
      "source": [
        "## Loan Data\n",
        "\n",
        "In this section we manually clean-up come features describing the resquest of loan by borrowers."
      ]
    },
    {
      "metadata": {
        "id": "IKrxiu6hrZRS",
        "colab_type": "text"
      },
      "cell_type": "markdown",
      "source": [
        "**Issue date**"
      ]
    },
    {
      "metadata": {
        "id": "Fwjvkf6grZRU",
        "colab_type": "text"
      },
      "cell_type": "markdown",
      "source": [
        "Let's convert the loan's issue date into a datatime type and add month and quarter."
      ]
    },
    {
      "metadata": {
        "id": "feGdMLSLrZRW",
        "colab_type": "code",
        "colab": {}
      },
      "cell_type": "code",
      "source": [
        "df_loan_accepted_cleaned['issue_q'] = pd.to_datetime(df_loan_accepted_cleaned.issue_d, format='%b-%Y').dt.to_period('Q')\n",
        "df_loan_accepted_cleaned['issue_m'] = df_loan_accepted_cleaned.issue_d.str.replace(r'-\\d+', '')"
      ],
      "execution_count": 0,
      "outputs": []
    },
    {
      "metadata": {
        "id": "gTqZpeGjrZRk",
        "colab_type": "text"
      },
      "cell_type": "markdown",
      "source": [
        "**Loan status**"
      ]
    },
    {
      "metadata": {
        "id": "sAnrrXmQrZRk",
        "colab_type": "text"
      },
      "cell_type": "markdown",
      "source": [
        "Delinquency happens when a borrower fails to pay the minimum amount for an outstanding debt. In the countplot below we can see the amount of loans that incurred in any stage of delinquency, according to the definitions used by Lending Club.\n",
        "\n",
        "    Charged Off — defaulted loans for which there is no expectation from the lender in recovering the debt\n",
        "    Default — borrower has failed to pay his obligations for more than 120 days\n",
        "    Late — borrower has failed to pay his obligations for 31 to 120 days\n",
        "    Grace Period — borrower still has time to pay his obligations without being considered delinquent\n",
        "    Late — payment is late by 16 to 30 days\n",
        "    \n",
        "The count of loans within each stage is given below."
      ]
    },
    {
      "metadata": {
        "id": "ZQEDmSJyrZRm",
        "colab_type": "code",
        "colab": {},
        "outputId": "585f09ad-55c4-48e3-b427-a7fb42a91df5"
      },
      "cell_type": "code",
      "source": [
        "df_loan_accepted_cleaned.loan_status.value_counts()"
      ],
      "execution_count": 0,
      "outputs": [
        {
          "output_type": "execute_result",
          "data": {
            "text/plain": [
              "Fully Paid                                             89859\n",
              "Current                                                83297\n",
              "Charged Off                                            22881\n",
              "Late (31-120 days)                                     2255 \n",
              "In Grace Period                                        1344 \n",
              "Late (16-30 days)                                      498  \n",
              "Does not meet the credit policy. Status:Fully Paid     198  \n",
              "Does not meet the credit policy. Status:Charged Off    71   \n",
              "Default                                                4    \n",
              "Name: loan_status, dtype: int64"
            ]
          },
          "metadata": {
            "tags": []
          },
          "execution_count": 502
        }
      ]
    },
    {
      "metadata": {
        "id": "p87CCqwbrZRs",
        "colab_type": "text"
      },
      "cell_type": "markdown",
      "source": [
        "Very few old loans have the status 'Does not meet the credit policy' and will not be considered in our project."
      ]
    },
    {
      "metadata": {
        "id": "drpWXOyjrZRw",
        "colab_type": "code",
        "colab": {}
      },
      "cell_type": "code",
      "source": [
        "df_loan_accepted_cleaned.drop(df_loan_accepted_cleaned[df_loan_accepted_cleaned.loan_status=='Does not meet the credit policy. Status:Fully Paid'].index, inplace=True)\n",
        "df_loan_accepted_cleaned.drop(df_loan_accepted_cleaned[df_loan_accepted_cleaned.loan_status=='Does not meet the credit policy. Status:Charged Off'].index, inplace=True)"
      ],
      "execution_count": 0,
      "outputs": []
    },
    {
      "metadata": {
        "id": "3BofA7t4rZR4",
        "colab_type": "text"
      },
      "cell_type": "markdown",
      "source": [
        "We add a new feature for successfully paid loans."
      ]
    },
    {
      "metadata": {
        "id": "izMM2EI6rZR-",
        "colab_type": "code",
        "colab": {}
      },
      "cell_type": "code",
      "source": [
        "df_loan_accepted_cleaned['success'] = df_loan_accepted_cleaned['loan_status']\n",
        "df_loan_accepted_cleaned.replace({'success':{'Charged Off': 0,\n",
        "                                             'Fully Paid': 1, \n",
        "                                             'Current': 2, \n",
        "                                             'In Grace Period': 3,\n",
        "                                             'Late (16-30 days)': 4,\n",
        "                                             'Late (31-120 days)': 5,\n",
        "                                             'Default': 6 }}, inplace=True)\n",
        "df_loan_accepted_cleaned['success'] = df_loan_accepted_cleaned['success'].astype('int')"
      ],
      "execution_count": 0,
      "outputs": []
    },
    {
      "metadata": {
        "id": "rmRWPUq0rZSG",
        "colab_type": "text"
      },
      "cell_type": "markdown",
      "source": [
        "**Term and interest rate**\n",
        "\n",
        "We turn the term and interest rate into numbers."
      ]
    },
    {
      "metadata": {
        "id": "FraXWbPKrZSI",
        "colab_type": "code",
        "colab": {},
        "outputId": "56f24e25-b95a-4078-dff9-1089f3037859"
      },
      "cell_type": "code",
      "source": [
        "df_loan_accepted_cleaned.term.unique()"
      ],
      "execution_count": 0,
      "outputs": [
        {
          "output_type": "execute_result",
          "data": {
            "text/plain": [
              "array([' 36 months', ' 60 months'], dtype=object)"
            ]
          },
          "metadata": {
            "tags": []
          },
          "execution_count": 505
        }
      ]
    },
    {
      "metadata": {
        "id": "6fCHESYhrZSQ",
        "colab_type": "code",
        "colab": {}
      },
      "cell_type": "code",
      "source": [
        "df_loan_accepted_cleaned.term.replace(' 36 months', 36, inplace=True)\n",
        "df_loan_accepted_cleaned.term.replace(' 60 months', 60, inplace=True)\n",
        "df_loan_accepted_cleaned.term = df_loan_accepted_cleaned.term.astype('int')"
      ],
      "execution_count": 0,
      "outputs": []
    },
    {
      "metadata": {
        "id": "eor7mIFTrZSW",
        "colab_type": "code",
        "colab": {},
        "outputId": "cffea32d-7f25-4933-dda6-432b7be5ea76"
      },
      "cell_type": "code",
      "source": [
        "df_loan_accepted_cleaned.term.unique()"
      ],
      "execution_count": 0,
      "outputs": [
        {
          "output_type": "execute_result",
          "data": {
            "text/plain": [
              "array([36, 60], dtype=int64)"
            ]
          },
          "metadata": {
            "tags": []
          },
          "execution_count": 507
        }
      ]
    },
    {
      "metadata": {
        "id": "L1pPL0JdrZSo",
        "colab_type": "code",
        "colab": {},
        "outputId": "357ad970-5920-4b65-8159-e5d668f27759"
      },
      "cell_type": "code",
      "source": [
        "df_loan_accepted_cleaned.int_rate.head()"
      ],
      "execution_count": 0,
      "outputs": [
        {
          "output_type": "execute_result",
          "data": {
            "text/plain": [
              "0     13.35%\n",
              "1     14.08%\n",
              "2     11.99%\n",
              "3      8.18%\n",
              "4     16.99%\n",
              "Name: int_rate, dtype: object"
            ]
          },
          "metadata": {
            "tags": []
          },
          "execution_count": 508
        }
      ]
    },
    {
      "metadata": {
        "id": "vN0fJuS3rZSu",
        "colab_type": "code",
        "colab": {}
      },
      "cell_type": "code",
      "source": [
        "df_loan_accepted_cleaned.int_rate = df_loan_accepted_cleaned.int_rate.str[:-1]\n",
        "df_loan_accepted_cleaned.int_rate = df_loan_accepted_cleaned.int_rate.astype('float32')"
      ],
      "execution_count": 0,
      "outputs": []
    },
    {
      "metadata": {
        "id": "mewB8Qi6rZS0",
        "colab_type": "code",
        "colab": {},
        "outputId": "30863cff-d180-4cce-8bb6-9977561572e1"
      },
      "cell_type": "code",
      "source": [
        "df_loan_accepted_cleaned.int_rate.head()"
      ],
      "execution_count": 0,
      "outputs": [
        {
          "output_type": "execute_result",
          "data": {
            "text/plain": [
              "0    13.35\n",
              "1    14.08\n",
              "2    11.99\n",
              "3    8.18 \n",
              "4    16.99\n",
              "Name: int_rate, dtype: float32"
            ]
          },
          "metadata": {
            "tags": []
          },
          "execution_count": 510
        }
      ]
    },
    {
      "metadata": {
        "id": "fTzo0tV9rZS6",
        "colab_type": "text"
      },
      "cell_type": "markdown",
      "source": [
        "**Loan amounts**"
      ]
    },
    {
      "metadata": {
        "id": "rJFs3LTOrZS8",
        "colab_type": "text"
      },
      "cell_type": "markdown",
      "source": [
        "We will transform the amounts into integers"
      ]
    },
    {
      "metadata": {
        "id": "mDovz6jRrZS8",
        "colab_type": "code",
        "colab": {}
      },
      "cell_type": "code",
      "source": [
        "df_loan_accepted_cleaned.loan_amnt = df_loan_accepted_cleaned.loan_amnt.astype('int')"
      ],
      "execution_count": 0,
      "outputs": []
    },
    {
      "metadata": {
        "id": "93q9c8HJrZTC",
        "colab_type": "text"
      },
      "cell_type": "markdown",
      "source": [
        "We will drop rows where `loan_amnt`, `funded_amnt`, `funded_amnt_inv` or `installment` is missing. We transform the amounts into integers."
      ]
    },
    {
      "metadata": {
        "id": "9ZTBhC6DrZTC",
        "colab_type": "code",
        "colab": {}
      },
      "cell_type": "code",
      "source": [
        "df_loan_accepted_cleaned = df_loan_accepted_cleaned[df_loan_accepted_cleaned.loan_amnt.notnull() &\n",
        "                                                    df_loan_accepted_cleaned.funded_amnt.notnull() & \n",
        "                                                    df_loan_accepted_cleaned.funded_amnt_inv.notnull() & \n",
        "                                                    df_loan_accepted_cleaned.installment.notnull()]"
      ],
      "execution_count": 0,
      "outputs": []
    },
    {
      "metadata": {
        "id": "441aRbNnrZTG",
        "colab_type": "code",
        "colab": {}
      },
      "cell_type": "code",
      "source": [
        "df_loan_accepted_cleaned.funded_amnt_inv = df_loan_accepted_cleaned.loan_amnt.astype('int')"
      ],
      "execution_count": 0,
      "outputs": []
    },
    {
      "metadata": {
        "id": "ynE1lVB8rZTK",
        "colab_type": "text"
      },
      "cell_type": "markdown",
      "source": [
        "**Title**"
      ]
    },
    {
      "metadata": {
        "id": "I1iamW3krZTK",
        "colab_type": "text"
      },
      "cell_type": "markdown",
      "source": [
        "We will replace missing `title` values with NA for not available."
      ]
    },
    {
      "metadata": {
        "id": "FKqRipzCrZTM",
        "colab_type": "code",
        "colab": {}
      },
      "cell_type": "code",
      "source": [
        "df_loan_accepted_cleaned.replace({'title': {np.nan: 'N/A'}}, inplace=True)"
      ],
      "execution_count": 0,
      "outputs": []
    },
    {
      "metadata": {
        "id": "lBAwsh9qrZTS",
        "colab_type": "text"
      },
      "cell_type": "markdown",
      "source": [
        "There are thousands of distinct titles entered by borrowers for their loan."
      ]
    },
    {
      "metadata": {
        "id": "izA-9P4WrZTU",
        "colab_type": "code",
        "colab": {},
        "outputId": "f2205736-56a5-4bff-ec3d-4db0d2d96567"
      },
      "cell_type": "code",
      "source": [
        "df_loan_accepted_cleaned.title.unique().shape"
      ],
      "execution_count": 0,
      "outputs": [
        {
          "output_type": "execute_result",
          "data": {
            "text/plain": [
              "(8638,)"
            ]
          },
          "metadata": {
            "tags": []
          },
          "execution_count": 515
        }
      ]
    },
    {
      "metadata": {
        "id": "1CYcVYNsrZTY",
        "colab_type": "text"
      },
      "cell_type": "markdown",
      "source": [
        " We will prepare the titles for natural language features extration."
      ]
    },
    {
      "metadata": {
        "id": "VEZiUpXPrZTa",
        "colab_type": "code",
        "colab": {}
      },
      "cell_type": "code",
      "source": [
        "def clean_text(text):\n",
        "    #https://www.analyticsvidhya.com/blog/2018/02/the-different-methods-deal-text-data-predictive-python/\n",
        "    # lower case\n",
        "    text = text.apply(lambda x: \" \".join(x.lower() for x in x.split()))\n",
        "    # remove punctuation\n",
        "    text = text.str.replace('[^\\w\\s]','') \n",
        "    # remove stop words\n",
        "    from nltk.corpus import stopwords\n",
        "    stop = stopwords.words('english')\n",
        "    text = text.apply(lambda x: \" \".join(x for x in x.split() if x not in stop))\n",
        "    # correct spelling\n",
        "    #from textblob import TextBlob\n",
        "    #text = text.apply(lambda x: str(TextBlob(x).correct()))\n",
        "    # lemmatization \n",
        "    from textblob import Word\n",
        "    text = text.apply(lambda x: \" \".join([Word(word).lemmatize() for word in x.split()]))\n",
        "    return text"
      ],
      "execution_count": 0,
      "outputs": []
    },
    {
      "metadata": {
        "id": "DyLdZIaQrZTk",
        "colab_type": "code",
        "colab": {}
      },
      "cell_type": "code",
      "source": [
        "df_loan_accepted_cleaned.title = clean_text(df_loan_accepted_cleaned.title)"
      ],
      "execution_count": 0,
      "outputs": []
    },
    {
      "metadata": {
        "id": "gZ49zQjrrZTq",
        "colab_type": "code",
        "colab": {},
        "outputId": "2773e6d9-fccf-4c10-98be-f142c73ff5ca"
      },
      "cell_type": "code",
      "source": [
        "df_loan_accepted_cleaned.title.unique()"
      ],
      "execution_count": 0,
      "outputs": [
        {
          "output_type": "execute_result",
          "data": {
            "text/plain": [
              "array(['car financing', '', 'debt consolidation', ..., 'envelope system',\n",
              "       'medical bill debt consolidation', 'beckys wedding'], dtype=object)"
            ]
          },
          "metadata": {
            "tags": []
          },
          "execution_count": 518
        }
      ]
    },
    {
      "metadata": {
        "id": "nR54QvC9rZTw",
        "colab_type": "text"
      },
      "cell_type": "markdown",
      "source": [
        "**Miscellenous**"
      ]
    },
    {
      "metadata": {
        "id": "b4hWi6dXrZT2",
        "colab_type": "text"
      },
      "cell_type": "markdown",
      "source": [
        "The columns `initial_list_status`,`application_type`,`disbursement_method` describe two categories each, one of them being largely dominant."
      ]
    },
    {
      "metadata": {
        "id": "bo2tVyk0rZT2",
        "colab_type": "code",
        "colab": {},
        "outputId": "9ded0a14-9a34-4c0f-92af-51fb6c019912"
      },
      "cell_type": "code",
      "source": [
        "df_loan_accepted_cleaned.initial_list_status.value_counts()"
      ],
      "execution_count": 0,
      "outputs": [
        {
          "output_type": "execute_result",
          "data": {
            "text/plain": [
              "w    130974\n",
              "f    69164 \n",
              "Name: initial_list_status, dtype: int64"
            ]
          },
          "metadata": {
            "tags": []
          },
          "execution_count": 519
        }
      ]
    },
    {
      "metadata": {
        "id": "j0gM9B1DrZUI",
        "colab_type": "code",
        "colab": {},
        "outputId": "e39e12a4-3b3e-4e46-eac3-1ff055180014"
      },
      "cell_type": "code",
      "source": [
        "df_loan_accepted_cleaned.application_type.value_counts()"
      ],
      "execution_count": 0,
      "outputs": [
        {
          "output_type": "execute_result",
          "data": {
            "text/plain": [
              "Individual    191606\n",
              "Joint App     8532  \n",
              "Name: application_type, dtype: int64"
            ]
          },
          "metadata": {
            "tags": []
          },
          "execution_count": 520
        }
      ]
    },
    {
      "metadata": {
        "id": "9ueAZXr6rZUU",
        "colab_type": "code",
        "colab": {},
        "outputId": "99ca876e-0d54-4958-ec44-4295986ef84a"
      },
      "cell_type": "code",
      "source": [
        "df_loan_accepted_cleaned.disbursement_method.value_counts()"
      ],
      "execution_count": 0,
      "outputs": [
        {
          "output_type": "execute_result",
          "data": {
            "text/plain": [
              "Cash         197328\n",
              "DirectPay    2810  \n",
              "Name: disbursement_method, dtype: int64"
            ]
          },
          "metadata": {
            "tags": []
          },
          "execution_count": 521
        }
      ]
    },
    {
      "metadata": {
        "id": "giZ-pgvzrZUq",
        "colab_type": "text"
      },
      "cell_type": "markdown",
      "source": [
        "We remove those columns."
      ]
    },
    {
      "metadata": {
        "id": "oT2smczgrZUs",
        "colab_type": "code",
        "colab": {}
      },
      "cell_type": "code",
      "source": [
        "df_loan_accepted_cleaned.drop(columns=['initial_list_status','application_type','disbursement_method'], inplace=True)"
      ],
      "execution_count": 0,
      "outputs": []
    },
    {
      "metadata": {
        "id": "IKcbc_1PrZUu",
        "colab_type": "text"
      },
      "cell_type": "markdown",
      "source": [
        "## Loan Followup"
      ]
    },
    {
      "metadata": {
        "id": "CvqotlykrZUw",
        "colab_type": "text"
      },
      "cell_type": "markdown",
      "source": [
        "In this section we manually clean-up the information about the current status of an active loan. These columns tell for example how much was paid back, when the next payment is to be expected etc.\n",
        "\n",
        "For the goal of our project, we will consider `total_rec_late_fee` which indicate that the borrower had issues with paying the installment at some point in the past. This information could help computing the probability of charge-off or default for ongoing loans. \n",
        "\n",
        "We will also consider features such as `last_pymnt_d`, `total_rec_prncp`, `total_rec_int`, `last_pymnt_d` for computing the return of investment for closed loans.\n",
        "\n",
        "We delete the remaining follow-up columns."
      ]
    },
    {
      "metadata": {
        "id": "yXSKOU1rrZUw",
        "colab_type": "code",
        "colab": {}
      },
      "cell_type": "code",
      "source": [
        "df_loan_accepted_cleaned.drop(columns=['out_prncp','out_prncp_inv','debt_settlement_flag','pymnt_plan','recoveries','hardship_flag'], inplace=True)"
      ],
      "execution_count": 0,
      "outputs": []
    },
    {
      "metadata": {
        "id": "KAeC3OaXrZU0",
        "colab_type": "text"
      },
      "cell_type": "markdown",
      "source": [
        "## Borrower demographics\n",
        "\n",
        "In this section we manually clean-up data related to the borrower."
      ]
    },
    {
      "metadata": {
        "id": "_2Nd9KyBrZU2",
        "colab_type": "text"
      },
      "cell_type": "markdown",
      "source": [
        "**Employment Title**\n",
        "\n",
        "We replace missing employment title by 'N/A'. "
      ]
    },
    {
      "metadata": {
        "id": "RxmxgAbIrZU4",
        "colab_type": "code",
        "colab": {}
      },
      "cell_type": "code",
      "source": [
        "df_loan_accepted_cleaned.replace({'emp_title': {np.nan: 'N/A'}}, inplace=True)"
      ],
      "execution_count": 0,
      "outputs": []
    },
    {
      "metadata": {
        "id": "TEBiQbU6rZU6",
        "colab_type": "text"
      },
      "cell_type": "markdown",
      "source": [
        "**Employment Length**\n",
        "\n",
        "Missing employment length is replaced by 0."
      ]
    },
    {
      "metadata": {
        "id": "myttFIpcrZU8",
        "colab_type": "code",
        "colab": {}
      },
      "cell_type": "code",
      "source": [
        "df_loan_accepted_cleaned.emp_length.fillna(value=0,inplace=True)\n",
        "df_loan_accepted_cleaned.emp_length.replace(to_replace='[^0-9]+', value='', inplace=True, regex=True)\n",
        "df_loan_accepted_cleaned.emp_length.replace(to_replace='self-employed', value='0', inplace=True, regex=True)\n",
        "df_loan_accepted_cleaned.emp_length.replace(to_replace='', value='0', inplace=True, regex=True)\n",
        "df_loan_accepted_cleaned.emp_length = df_loan_accepted_cleaned.emp_length.astype(int)"
      ],
      "execution_count": 0,
      "outputs": []
    },
    {
      "metadata": {
        "id": "95mVtAz2rZVS",
        "colab_type": "text"
      },
      "cell_type": "markdown",
      "source": [
        "**Annual Income**\n",
        "\n",
        "There are too many outliers in `annual_inc`, which should be removed."
      ]
    },
    {
      "metadata": {
        "id": "xfiPieG1rZVU",
        "colab_type": "code",
        "colab": {},
        "outputId": "db22b6e0-0767-4ce4-e41e-9535e9dc0701"
      },
      "cell_type": "code",
      "source": [
        "orig_rows_count = df_loan_accepted_cleaned.shape[0]\n",
        "df_loan_accepted_cleaned = df_loan_accepted_cleaned[~(df_loan_accepted_cleaned.annual_inc > 250000)]\n",
        "print(\"{} rows removed with annual_inc > 250000.\".format(orig_rows_count-df_loan_accepted_cleaned.shape[0]))"
      ],
      "execution_count": 0,
      "outputs": [
        {
          "output_type": "stream",
          "text": [
            "2213 rows removed with annual_inc > 250000.\n"
          ],
          "name": "stdout"
        }
      ]
    },
    {
      "metadata": {
        "id": "66-G0icfrZVm",
        "colab_type": "text"
      },
      "cell_type": "markdown",
      "source": [
        "## Borrower Financial Profile\n",
        "\n",
        "In this section we clean columns which describe the credit history of the borrower."
      ]
    },
    {
      "metadata": {
        "id": "6V3trE2urZVq",
        "colab_type": "text"
      },
      "cell_type": "markdown",
      "source": [
        "**Revolving Line Utilization Rate**\n",
        "\n",
        "We remove the '%' sign from the revolving line utilization rate and turn the column to float datatype."
      ]
    },
    {
      "metadata": {
        "id": "CmIVQhJ5rZVu",
        "colab_type": "code",
        "colab": {}
      },
      "cell_type": "code",
      "source": [
        "df_loan_accepted_cleaned.revol_util = df_loan_accepted_cleaned.revol_util.fillna('0%')\n",
        "df_loan_accepted_cleaned.revol_util = df_loan_accepted_cleaned.revol_util.str[:,-1]\n",
        "df_loan_accepted_cleaned.revol_util = df_loan_accepted_cleaned.revol_util.astype('float32')"
      ],
      "execution_count": 0,
      "outputs": []
    },
    {
      "metadata": {
        "id": "TI4895V7rZV0",
        "colab_type": "text"
      },
      "cell_type": "markdown",
      "source": [
        "**Credit History**\n",
        "\n",
        "It is safe to impute missing values for the following columns with zero."
      ]
    },
    {
      "metadata": {
        "id": "AWgRS9corZV0",
        "colab_type": "code",
        "colab": {}
      },
      "cell_type": "code",
      "source": [
        "cols = ['dti','delinq_2yrs','inq_last_6mths','mths_since_last_delinq','mths_since_last_record','open_acc','pub_rec','revol_bal','revol_util','total_acc','tot_coll_amt','mort_acc','num_bc_sats','num_bc_tl','num_il_tl','num_op_rev_tl','num_rev_accts','num_rev_tl_bal_gt_0','num_sats','percent_bc_gt_75','pub_rec_bankruptcies','tax_liens','tot_hi_cred_lim','total_bal_ex_mort','total_bc_limit','total_il_high_credit_limit']\n",
        "\n",
        "df_loan_accepted_cleaned[cols] = df_loan_accepted_cleaned[cols].fillna(0)"
      ],
      "execution_count": 0,
      "outputs": []
    },
    {
      "metadata": {
        "id": "LrCBpdbQrZV8",
        "colab_type": "text"
      },
      "cell_type": "markdown",
      "source": [
        "**Trade Delinquency**\n",
        "\n",
        "The percent of trades never delinquent `pct_tl_nvr_dlq` is set to 100% if it is missing."
      ]
    },
    {
      "metadata": {
        "id": "Q7foNcTHrZV-",
        "colab_type": "code",
        "colab": {}
      },
      "cell_type": "code",
      "source": [
        "df_loan_accepted_cleaned.pct_tl_nvr_dlq.fillna(100, inplace=True)"
      ],
      "execution_count": 0,
      "outputs": []
    },
    {
      "metadata": {
        "id": "sgRYOxa5rZWG",
        "colab_type": "text"
      },
      "cell_type": "markdown",
      "source": [
        "## Borrower Financial Profile Followup"
      ]
    },
    {
      "metadata": {
        "id": "ddye9G1ArZWO",
        "colab_type": "text"
      },
      "cell_type": "markdown",
      "source": [
        "In this section we manually clean some columns which contain a more current financial information about the borrower."
      ]
    },
    {
      "metadata": {
        "id": "ZesDdWA-rZWu",
        "colab_type": "text"
      },
      "cell_type": "markdown",
      "source": [
        "`last_credit_pull_d` indicates how old the financial information about the borrower is. It is safe to drop this feature."
      ]
    },
    {
      "metadata": {
        "id": "s5LNiv8nrZWw",
        "colab_type": "code",
        "colab": {}
      },
      "cell_type": "code",
      "source": [
        "df_loan_accepted_cleaned.drop(columns=['last_credit_pull_d'], inplace=True)"
      ],
      "execution_count": 0,
      "outputs": []
    },
    {
      "metadata": {
        "id": "ihQBG1dnrZW4",
        "colab_type": "text"
      },
      "cell_type": "markdown",
      "source": [
        "We will set the ratio of total current balance to high credit/credit limit for all bankcard accounts to 100% when missing."
      ]
    },
    {
      "metadata": {
        "id": "oKMJwejkrZW4",
        "colab_type": "code",
        "colab": {}
      },
      "cell_type": "code",
      "source": [
        "df_loan_accepted_cleaned.bc_util.fillna(100, inplace=True)"
      ],
      "execution_count": 0,
      "outputs": []
    },
    {
      "metadata": {
        "id": "VD07AYvirZW-",
        "colab_type": "text"
      },
      "cell_type": "markdown",
      "source": [
        "It is safe to impute missing values for the remaining columns with zero."
      ]
    },
    {
      "metadata": {
        "id": "Dh2L7JOPrZXA",
        "colab_type": "code",
        "colab": {}
      },
      "cell_type": "code",
      "source": [
        "cols = ['collections_12_mths_ex_med','mths_since_last_major_derog','acc_now_delinq','tot_cur_bal','open_acc_6m','open_act_il','open_il_12m','open_il_24m','mths_since_rcnt_il','total_bal_il','il_util','open_rv_12m','open_rv_24m','max_bal_bc','all_util','total_rev_hi_lim','inq_fi','total_cu_tl','inq_last_12m','acc_open_past_24mths','avg_cur_bal','bc_open_to_buy','chargeoff_within_12_mths','delinq_amnt','mo_sin_old_il_acct','mo_sin_old_rev_tl_op','mo_sin_rcnt_rev_tl_op','mo_sin_rcnt_tl','mths_since_recent_bc','mths_since_recent_bc_dlq','mths_since_recent_inq','mths_since_recent_revol_delinq','num_accts_ever_120_pd','num_actv_bc_tl','num_actv_rev_tl','num_tl_120dpd_2m','num_tl_30dpd','num_tl_90g_dpd_24m','num_tl_op_past_12m']\n",
        "\n",
        "df_loan_accepted_cleaned[cols] = df_loan_accepted_cleaned[cols].fillna(0)"
      ],
      "execution_count": 0,
      "outputs": []
    },
    {
      "metadata": {
        "id": "36Wo3iy-rZXM",
        "colab_type": "text"
      },
      "cell_type": "markdown",
      "source": [
        "## Correlation\n",
        "\n",
        "In this section, we check the correlation between all remaining features."
      ]
    },
    {
      "metadata": {
        "id": "-SWq2RilrZXO",
        "colab_type": "code",
        "colab": {}
      },
      "cell_type": "code",
      "source": [
        "def find_high_correlated_features(frame):\n",
        "    new_corr = frame.corr()\n",
        "    new_corr.loc[:,:] = np.tril(new_corr, k=-1) \n",
        "    new_corr = new_corr.stack()\n",
        "    print(new_corr[(new_corr > 0.8) | (new_corr < -0.8)])\n"
      ],
      "execution_count": 0,
      "outputs": []
    },
    {
      "metadata": {
        "scrolled": true,
        "id": "lKGVHIrqrZXU",
        "colab_type": "code",
        "colab": {},
        "outputId": "2bab8b01-a9f3-4fd5-fd11-37d5bc6bc01c"
      },
      "cell_type": "code",
      "source": [
        "find_high_correlated_features(df_loan_accepted_cleaned)   "
      ],
      "execution_count": 0,
      "outputs": [
        {
          "output_type": "stream",
          "text": [
            "funded_amnt                 loan_amnt            0.999743\n",
            "funded_amnt_inv             loan_amnt            1.000000\n",
            "                            funded_amnt          0.999743\n",
            "installment                 loan_amnt            0.945965\n",
            "                            funded_amnt          0.946320\n",
            "                            funded_amnt_inv      0.945965\n",
            "open_rv_24m                 open_rv_12m          0.834431\n",
            "all_util                    il_util              0.828947\n",
            "avg_cur_bal                 tot_cur_bal          0.823542\n",
            "num_actv_rev_tl             num_actv_bc_tl       0.830213\n",
            "num_bc_sats                 num_actv_bc_tl       0.842139\n",
            "num_op_rev_tl               open_acc             0.801644\n",
            "                            num_actv_rev_tl      0.817740\n",
            "num_rev_accts               num_bc_tl            0.853224\n",
            "                            num_op_rev_tl        0.808960\n",
            "num_rev_tl_bal_gt_0         num_actv_bc_tl       0.824096\n",
            "                            num_actv_rev_tl      0.984166\n",
            "                            num_op_rev_tl        0.821867\n",
            "num_sats                    open_acc             0.954830\n",
            "                            num_op_rev_tl        0.839493\n",
            "num_tl_30dpd                acc_now_delinq       0.817772\n",
            "tot_hi_cred_lim             tot_cur_bal          0.982046\n",
            "total_bc_limit              total_rev_hi_lim     0.813747\n",
            "                            bc_open_to_buy       0.848926\n",
            "total_il_high_credit_limit  total_bal_ex_mort    0.889408\n",
            "dtype: float64\n"
          ],
          "name": "stdout"
        }
      ]
    },
    {
      "metadata": {
        "id": "3zM1VjlSrZXi",
        "colab_type": "text"
      },
      "cell_type": "markdown",
      "source": [
        "As shown above, `installment` carries the same information as the `funded_amnt_in`. Similarly `open_il_24m` and `open_il_12m` are highly correlated. Same for `open_rv_24m` and `open_rv_12m`; `all_util` and `il_util`; `total_rev_hi_lim` and `revol_bal`; `bc_util` and `revol_util`; `avg_cur_bal` and `tot_cur_bal`; `num_actv_bc_tl` and `num_actv_bc_tl`; `num_tl_30dpd` and `acc_now_delinq`. We consider dropping some of those columns below."
      ]
    },
    {
      "metadata": {
        "id": "g6LpW3MMrZXm",
        "colab_type": "code",
        "colab": {}
      },
      "cell_type": "code",
      "source": [
        "df_loan_accepted_cleaned.drop(columns=['open_il_12m','open_rv_12m','il_util','revol_bal', \n",
        "                                       'revol_util','avg_cur_bal','num_actv_bc_tl','num_tl_30dpd'], inplace=True)"
      ],
      "execution_count": 0,
      "outputs": []
    },
    {
      "metadata": {
        "id": "SxKTuwWorZXq",
        "colab_type": "text"
      },
      "cell_type": "markdown",
      "source": [
        "## Census Data\n",
        "\n",
        "After cleaning the loan acceptance data, we will now clean and add census data to it."
      ]
    },
    {
      "metadata": {
        "id": "1DU78TRirZXw",
        "colab_type": "text"
      },
      "cell_type": "markdown",
      "source": [
        "### Cleaning census data"
      ]
    },
    {
      "metadata": {
        "id": "0A6knoYarZX0",
        "colab_type": "code",
        "colab": {}
      },
      "cell_type": "code",
      "source": [
        "df_census_cleaned = df_census.copy()"
      ],
      "execution_count": 0,
      "outputs": []
    },
    {
      "metadata": {
        "id": "9AwEdC0erZX2",
        "colab_type": "text"
      },
      "cell_type": "markdown",
      "source": [
        "We keep the following columns and remove the rest from the census data."
      ]
    },
    {
      "metadata": {
        "id": "25LBBXLVrZX4",
        "colab_type": "code",
        "colab": {}
      },
      "cell_type": "code",
      "source": [
        "census_cols = ['Population', 'zip code tabulation area', 'median_income_2016', \n",
        "               'male_pct', 'female_pct', \n",
        "               'Black_pct', 'Native_pct', 'Asian_pct', 'Hispanic_pct', \n",
        "               'household_family_pct', 'poverty_level_below_pct', 'Graduate_Degree_pct', 'employment_2016_rate']\n",
        "df_census_cleaned = df_census_cleaned[census_cols]"
      ],
      "execution_count": 0,
      "outputs": []
    },
    {
      "metadata": {
        "id": "l4MY5nStrZYC",
        "colab_type": "text"
      },
      "cell_type": "markdown",
      "source": [
        "We remove rows with median income less than zero."
      ]
    },
    {
      "metadata": {
        "id": "ujC1qJJrrZYG",
        "colab_type": "code",
        "colab": {}
      },
      "cell_type": "code",
      "source": [
        "df_census_cleaned = df_census_cleaned[df_census_cleaned.median_income_2016>0]"
      ],
      "execution_count": 0,
      "outputs": []
    },
    {
      "metadata": {
        "id": "9xGMacSCrZYK",
        "colab_type": "text"
      },
      "cell_type": "markdown",
      "source": [
        "We first fill missing values with zeros in the census dataset."
      ]
    },
    {
      "metadata": {
        "id": "CV2Kaj7ErZYK",
        "colab_type": "code",
        "colab": {},
        "outputId": "df0d7883-39ff-40b6-d5d0-8cfc9bb311eb"
      },
      "cell_type": "code",
      "source": [
        "df_census_cleaned.isnull().sum()"
      ],
      "execution_count": 0,
      "outputs": [
        {
          "output_type": "execute_result",
          "data": {
            "text/plain": [
              "Population                  0   \n",
              "zip code tabulation area    0   \n",
              "median_income_2016          0   \n",
              "male_pct                    0   \n",
              "female_pct                  0   \n",
              "Black_pct                   0   \n",
              "Native_pct                  0   \n",
              "Asian_pct                   0   \n",
              "Hispanic_pct                0   \n",
              "household_family_pct        0   \n",
              "poverty_level_below_pct     9760\n",
              "Graduate_Degree_pct         0   \n",
              "employment_2016_rate        0   \n",
              "dtype: int64"
            ]
          },
          "metadata": {
            "tags": []
          },
          "execution_count": 539
        }
      ]
    },
    {
      "metadata": {
        "id": "Jc1Nm9bfrZYW",
        "colab_type": "code",
        "colab": {}
      },
      "cell_type": "code",
      "source": [
        "df_census_cleaned.fillna(0, inplace=True)"
      ],
      "execution_count": 0,
      "outputs": []
    },
    {
      "metadata": {
        "id": "pTV7AdTBrZYY",
        "colab_type": "text"
      },
      "cell_type": "markdown",
      "source": [
        "Add a new column with zip codes in the format 123XX"
      ]
    },
    {
      "metadata": {
        "id": "96C5ybVCrZYa",
        "colab_type": "code",
        "colab": {}
      },
      "cell_type": "code",
      "source": [
        "df_census_cleaned['zip_code'] = df_census_cleaned['zip code tabulation area'].astype('str')\n",
        "df_census_cleaned['zip_code'] = df_census_cleaned['zip_code'].str.pad(5, 'left', '0')\n",
        "df_census_cleaned['zip_code'] = df_census_cleaned['zip_code'].str.slice(0,3)\n",
        "df_census_cleaned['zip_code'] = df_census_cleaned['zip_code'].str.pad(5, 'right', 'x')\n",
        "df_census_cleaned.drop(columns=['zip code tabulation area'], inplace=True)"
      ],
      "execution_count": 0,
      "outputs": []
    },
    {
      "metadata": {
        "id": "LPhp0yYUrZYc",
        "colab_type": "text"
      },
      "cell_type": "markdown",
      "source": [
        "Aggregate by zipcode and take the mean of census values"
      ]
    },
    {
      "metadata": {
        "id": "Is7NsZHtrZYc",
        "colab_type": "code",
        "colab": {}
      },
      "cell_type": "code",
      "source": [
        "df_census_cleaned = df_census_cleaned.groupby(['zip_code']).mean().reset_index()"
      ],
      "execution_count": 0,
      "outputs": []
    },
    {
      "metadata": {
        "id": "Fhb7NwlzrZYi",
        "colab_type": "code",
        "colab": {},
        "outputId": "3050cc29-1736-4f89-f695-f468914e77c2"
      },
      "cell_type": "code",
      "source": [
        "df_census_cleaned.tail()"
      ],
      "execution_count": 0,
      "outputs": [
        {
          "output_type": "execute_result",
          "data": {
            "text/html": [
              "<div>\n",
              "<style scoped>\n",
              "    .dataframe tbody tr th:only-of-type {\n",
              "        vertical-align: middle;\n",
              "    }\n",
              "\n",
              "    .dataframe tbody tr th {\n",
              "        vertical-align: top;\n",
              "    }\n",
              "\n",
              "    .dataframe thead th {\n",
              "        text-align: right;\n",
              "    }\n",
              "</style>\n",
              "<table border=\"1\" class=\"dataframe\">\n",
              "  <thead>\n",
              "    <tr style=\"text-align: right;\">\n",
              "      <th></th>\n",
              "      <th>zip_code</th>\n",
              "      <th>Population</th>\n",
              "      <th>median_income_2016</th>\n",
              "      <th>male_pct</th>\n",
              "      <th>female_pct</th>\n",
              "      <th>Black_pct</th>\n",
              "      <th>Native_pct</th>\n",
              "      <th>Asian_pct</th>\n",
              "      <th>Hispanic_pct</th>\n",
              "      <th>household_family_pct</th>\n",
              "      <th>poverty_level_below_pct</th>\n",
              "      <th>Graduate_Degree_pct</th>\n",
              "      <th>employment_2016_rate</th>\n",
              "    </tr>\n",
              "  </thead>\n",
              "  <tbody>\n",
              "    <tr>\n",
              "      <th>884</th>\n",
              "      <td>995xx</td>\n",
              "      <td>6268.461538</td>\n",
              "      <td>59252.903846</td>\n",
              "      <td>0.526823</td>\n",
              "      <td>0.473177</td>\n",
              "      <td>0.020715</td>\n",
              "      <td>0.459778</td>\n",
              "      <td>0.040214</td>\n",
              "      <td>0.049570</td>\n",
              "      <td>0.684839</td>\n",
              "      <td>0.063769</td>\n",
              "      <td>0.069403</td>\n",
              "      <td>0.760864</td>\n",
              "    </tr>\n",
              "    <tr>\n",
              "      <th>885</th>\n",
              "      <td>996xx</td>\n",
              "      <td>2560.727273</td>\n",
              "      <td>50849.181818</td>\n",
              "      <td>0.534283</td>\n",
              "      <td>0.465717</td>\n",
              "      <td>0.007251</td>\n",
              "      <td>0.565686</td>\n",
              "      <td>0.034245</td>\n",
              "      <td>0.027964</td>\n",
              "      <td>0.695934</td>\n",
              "      <td>0.089168</td>\n",
              "      <td>0.046758</td>\n",
              "      <td>0.749790</td>\n",
              "    </tr>\n",
              "    <tr>\n",
              "      <th>886</th>\n",
              "      <td>997xx</td>\n",
              "      <td>2019.910448</td>\n",
              "      <td>48305.447761</td>\n",
              "      <td>0.546723</td>\n",
              "      <td>0.453277</td>\n",
              "      <td>0.007017</td>\n",
              "      <td>0.652971</td>\n",
              "      <td>0.010724</td>\n",
              "      <td>0.022896</td>\n",
              "      <td>0.697308</td>\n",
              "      <td>0.029398</td>\n",
              "      <td>0.047139</td>\n",
              "      <td>0.733550</td>\n",
              "    </tr>\n",
              "    <tr>\n",
              "      <th>887</th>\n",
              "      <td>998xx</td>\n",
              "      <td>3639.714286</td>\n",
              "      <td>61540.857143</td>\n",
              "      <td>0.518490</td>\n",
              "      <td>0.481510</td>\n",
              "      <td>0.015683</td>\n",
              "      <td>0.196095</td>\n",
              "      <td>0.031797</td>\n",
              "      <td>0.044007</td>\n",
              "      <td>0.663403</td>\n",
              "      <td>0.036125</td>\n",
              "      <td>0.076276</td>\n",
              "      <td>0.829295</td>\n",
              "    </tr>\n",
              "    <tr>\n",
              "      <th>888</th>\n",
              "      <td>999xx</td>\n",
              "      <td>2420.888889</td>\n",
              "      <td>49593.444444</td>\n",
              "      <td>0.532552</td>\n",
              "      <td>0.467448</td>\n",
              "      <td>0.001796</td>\n",
              "      <td>0.285796</td>\n",
              "      <td>0.015533</td>\n",
              "      <td>0.024939</td>\n",
              "      <td>0.558452</td>\n",
              "      <td>0.123077</td>\n",
              "      <td>0.061948</td>\n",
              "      <td>0.822142</td>\n",
              "    </tr>\n",
              "  </tbody>\n",
              "</table>\n",
              "</div>"
            ],
            "text/plain": [
              "    zip_code   Population  median_income_2016  male_pct  female_pct  \\\n",
              "884  995xx    6268.461538  59252.903846        0.526823  0.473177     \n",
              "885  996xx    2560.727273  50849.181818        0.534283  0.465717     \n",
              "886  997xx    2019.910448  48305.447761        0.546723  0.453277     \n",
              "887  998xx    3639.714286  61540.857143        0.518490  0.481510     \n",
              "888  999xx    2420.888889  49593.444444        0.532552  0.467448     \n",
              "\n",
              "     Black_pct  Native_pct  Asian_pct  Hispanic_pct  household_family_pct  \\\n",
              "884  0.020715   0.459778    0.040214   0.049570      0.684839               \n",
              "885  0.007251   0.565686    0.034245   0.027964      0.695934               \n",
              "886  0.007017   0.652971    0.010724   0.022896      0.697308               \n",
              "887  0.015683   0.196095    0.031797   0.044007      0.663403               \n",
              "888  0.001796   0.285796    0.015533   0.024939      0.558452               \n",
              "\n",
              "     poverty_level_below_pct  Graduate_Degree_pct  employment_2016_rate  \n",
              "884  0.063769                 0.069403             0.760864              \n",
              "885  0.089168                 0.046758             0.749790              \n",
              "886  0.029398                 0.047139             0.733550              \n",
              "887  0.036125                 0.076276             0.829295              \n",
              "888  0.123077                 0.061948             0.822142              "
            ]
          },
          "metadata": {
            "tags": []
          },
          "execution_count": 543
        }
      ]
    },
    {
      "metadata": {
        "id": "t3R7QJJErZYk",
        "colab_type": "text"
      },
      "cell_type": "markdown",
      "source": [
        "### Loan and census data consolidation"
      ]
    },
    {
      "metadata": {
        "id": "ckuwdeTSrZYm",
        "colab_type": "code",
        "colab": {}
      },
      "cell_type": "code",
      "source": [
        " df_loan_accepted_census_cleaned = pd.merge(df_loan_accepted_cleaned, df_census_cleaned, on='zip_code')"
      ],
      "execution_count": 0,
      "outputs": []
    },
    {
      "metadata": {
        "id": "HVhQ1t2drZYo",
        "colab_type": "code",
        "colab": {},
        "outputId": "121cf236-c76f-4353-9073-2332742e79dc"
      },
      "cell_type": "code",
      "source": [
        "print('The merged loan and census dataset has {} features'.format(df_loan_accepted_census_cleaned.shape[1]))"
      ],
      "execution_count": 0,
      "outputs": [
        {
          "output_type": "stream",
          "text": [
            "The merged loan and census dataset has 99 features\n"
          ],
          "name": "stdout"
        }
      ]
    },
    {
      "metadata": {
        "id": "Hn5YAdzerZYs",
        "colab_type": "text"
      },
      "cell_type": "markdown",
      "source": [
        "Let's save the final accepted loan dataset augmented with census data to disk."
      ]
    },
    {
      "metadata": {
        "id": "mZt7cba8rZYs",
        "colab_type": "text"
      },
      "cell_type": "markdown",
      "source": [
        "Merge accepted loan data with census data using the zip code"
      ]
    },
    {
      "metadata": {
        "id": "sR41hjKZrZYs",
        "colab_type": "code",
        "colab": {}
      },
      "cell_type": "code",
      "source": [
        "df_loan_accepted_census_cleaned.to_csv('df_loan_accepted_census_cleaned.csv')"
      ],
      "execution_count": 0,
      "outputs": []
    },
    {
      "metadata": {
        "id": "cC3s1Ts5rZYw",
        "colab_type": "text"
      },
      "cell_type": "markdown",
      "source": [
        "# Loan Rejection Data Cleaning\n",
        "\n",
        "In this section we will have a look at the rejected loan requests and do basic cleaning.\n"
      ]
    },
    {
      "metadata": {
        "id": "52nRucPcrZYw",
        "colab_type": "code",
        "colab": {},
        "outputId": "268bd217-eff1-4cd8-df9b-cae3a9ed1fae"
      },
      "cell_type": "code",
      "source": [
        "df_loan_rejected.head()"
      ],
      "execution_count": 0,
      "outputs": [
        {
          "output_type": "execute_result",
          "data": {
            "text/html": [
              "<div>\n",
              "<style scoped>\n",
              "    .dataframe tbody tr th:only-of-type {\n",
              "        vertical-align: middle;\n",
              "    }\n",
              "\n",
              "    .dataframe tbody tr th {\n",
              "        vertical-align: top;\n",
              "    }\n",
              "\n",
              "    .dataframe thead th {\n",
              "        text-align: right;\n",
              "    }\n",
              "</style>\n",
              "<table border=\"1\" class=\"dataframe\">\n",
              "  <thead>\n",
              "    <tr style=\"text-align: right;\">\n",
              "      <th></th>\n",
              "      <th>Amount Requested</th>\n",
              "      <th>Application Date</th>\n",
              "      <th>Loan Title</th>\n",
              "      <th>Risk_Score</th>\n",
              "      <th>Debt-To-Income Ratio</th>\n",
              "      <th>Zip Code</th>\n",
              "      <th>State</th>\n",
              "      <th>Employment Length</th>\n",
              "      <th>Policy Code</th>\n",
              "    </tr>\n",
              "  </thead>\n",
              "  <tbody>\n",
              "    <tr>\n",
              "      <th>0</th>\n",
              "      <td>1000.0</td>\n",
              "      <td>2007-05-26</td>\n",
              "      <td>Wedding Covered but No Honeymoon</td>\n",
              "      <td>693.0</td>\n",
              "      <td>10%</td>\n",
              "      <td>481xx</td>\n",
              "      <td>NM</td>\n",
              "      <td>4 years</td>\n",
              "      <td>0</td>\n",
              "    </tr>\n",
              "    <tr>\n",
              "      <th>1</th>\n",
              "      <td>1000.0</td>\n",
              "      <td>2007-05-26</td>\n",
              "      <td>Consolidating Debt</td>\n",
              "      <td>703.0</td>\n",
              "      <td>10%</td>\n",
              "      <td>010xx</td>\n",
              "      <td>MA</td>\n",
              "      <td>&lt; 1 year</td>\n",
              "      <td>0</td>\n",
              "    </tr>\n",
              "    <tr>\n",
              "      <th>2</th>\n",
              "      <td>11000.0</td>\n",
              "      <td>2007-05-27</td>\n",
              "      <td>Want to consolidate my debt</td>\n",
              "      <td>715.0</td>\n",
              "      <td>10%</td>\n",
              "      <td>212xx</td>\n",
              "      <td>MD</td>\n",
              "      <td>1 year</td>\n",
              "      <td>0</td>\n",
              "    </tr>\n",
              "    <tr>\n",
              "      <th>3</th>\n",
              "      <td>6000.0</td>\n",
              "      <td>2007-05-27</td>\n",
              "      <td>waksman</td>\n",
              "      <td>698.0</td>\n",
              "      <td>38.64%</td>\n",
              "      <td>017xx</td>\n",
              "      <td>MA</td>\n",
              "      <td>&lt; 1 year</td>\n",
              "      <td>0</td>\n",
              "    </tr>\n",
              "    <tr>\n",
              "      <th>4</th>\n",
              "      <td>1500.0</td>\n",
              "      <td>2007-05-27</td>\n",
              "      <td>mdrigo</td>\n",
              "      <td>509.0</td>\n",
              "      <td>9.43%</td>\n",
              "      <td>209xx</td>\n",
              "      <td>MD</td>\n",
              "      <td>&lt; 1 year</td>\n",
              "      <td>0</td>\n",
              "    </tr>\n",
              "  </tbody>\n",
              "</table>\n",
              "</div>"
            ],
            "text/plain": [
              "   Amount Requested Application Date                        Loan Title  \\\n",
              "0  1000.0            2007-05-26       Wedding Covered but No Honeymoon   \n",
              "1  1000.0            2007-05-26       Consolidating Debt                 \n",
              "2  11000.0           2007-05-27       Want to consolidate my debt        \n",
              "3  6000.0            2007-05-27       waksman                            \n",
              "4  1500.0            2007-05-27       mdrigo                             \n",
              "\n",
              "   Risk_Score Debt-To-Income Ratio Zip Code State Employment Length  \\\n",
              "0  693.0       10%                  481xx    NM    4 years            \n",
              "1  703.0       10%                  010xx    MA    < 1 year           \n",
              "2  715.0       10%                  212xx    MD    1 year             \n",
              "3  698.0       38.64%               017xx    MA    < 1 year           \n",
              "4  509.0       9.43%                209xx    MD    < 1 year           \n",
              "\n",
              "   Policy Code  \n",
              "0  0            \n",
              "1  0            \n",
              "2  0            \n",
              "3  0            \n",
              "4  0            "
            ]
          },
          "metadata": {
            "tags": []
          },
          "execution_count": 366
        }
      ]
    },
    {
      "metadata": {
        "id": "OaF_sdZ4rZY0",
        "colab_type": "code",
        "colab": {}
      },
      "cell_type": "code",
      "source": [
        "df_loan_rejected_cleaned = df_loan_rejected.copy()"
      ],
      "execution_count": 0,
      "outputs": []
    },
    {
      "metadata": {
        "id": "eXLhYLS2rZY2",
        "colab_type": "text"
      },
      "cell_type": "markdown",
      "source": [
        "We rename the columns in order to be able to merge the data with accepted loans later."
      ]
    },
    {
      "metadata": {
        "id": "uDxNCOjprZY4",
        "colab_type": "code",
        "colab": {}
      },
      "cell_type": "code",
      "source": [
        "df_loan_rejected_cleaned.rename(columns={'Amount Requested':'loan_amnt',\n",
        "                                         'Application Date': 'issue_d',\n",
        "                                         'Risk_Score': 'risk_score',\n",
        "                                         'Debt-To-Income Ratio': 'dti',\n",
        "                                         'Zip Code':'zip_code',\n",
        "                                         'State': 'addr_state',\n",
        "                                         'Employment Length': 'emp_length',\n",
        "                                         'Loan Title': 'title'},  inplace=True)"
      ],
      "execution_count": 0,
      "outputs": []
    },
    {
      "metadata": {
        "id": "ZyJTYsi4rZY6",
        "colab_type": "text"
      },
      "cell_type": "markdown",
      "source": [
        "We remove columns with constant value"
      ]
    },
    {
      "metadata": {
        "id": "zJMTQIf5rZY6",
        "colab_type": "code",
        "colab": {},
        "outputId": "f7d1ffb7-66bd-4292-9133-8fb3b6f8097d"
      },
      "cell_type": "code",
      "source": [
        "cols_unique = list(df_loan_rejected_cleaned.columns[df_loan_rejected_cleaned.nunique()==1])\n",
        "print('Following columns with constant value were removed.')\n",
        "print(cols_unique)\n",
        "df_loan_rejected_cleaned.drop(cols_unique, axis=1, inplace=True)"
      ],
      "execution_count": 0,
      "outputs": [
        {
          "output_type": "stream",
          "text": [
            "Following columns with constant value were removed.\n",
            "['Policy Code']\n"
          ],
          "name": "stdout"
        }
      ]
    },
    {
      "metadata": {
        "id": "nbmUm-plrZZA",
        "colab_type": "text"
      },
      "cell_type": "markdown",
      "source": [
        "We remove duplicated rows"
      ]
    },
    {
      "metadata": {
        "id": "42BDA-PbrZZA",
        "colab_type": "code",
        "colab": {},
        "outputId": "93bb994e-19c8-45b3-cb85-6ee51d492ebf"
      },
      "cell_type": "code",
      "source": [
        "orig_rows_count = df_loan_rejected_cleaned.shape[0]\n",
        "df_loan_rejected_cleaned.drop_duplicates(inplace=True)\n",
        "print(\"{} duplicated rows were removed.\".format(orig_rows_count-df_loan_rejected_cleaned.shape[0]))"
      ],
      "execution_count": 0,
      "outputs": [
        {
          "output_type": "stream",
          "text": [
            "1379 duplicated rows were removed.\n"
          ],
          "name": "stdout"
        }
      ]
    },
    {
      "metadata": {
        "id": "4-9BVOlXrZZG",
        "colab_type": "text"
      },
      "cell_type": "markdown",
      "source": [
        "We remove rows with empty Risk Score, Zip Code or State"
      ]
    },
    {
      "metadata": {
        "id": "sZikGgk1rZZI",
        "colab_type": "code",
        "colab": {}
      },
      "cell_type": "code",
      "source": [
        "df_loan_rejected_cleaned = df_loan_rejected_cleaned[df_loan_rejected_cleaned.risk_score.notnull() & \n",
        "                                                    df_loan_rejected_cleaned.zip_code.notnull() & \n",
        "                                                    df_loan_rejected_cleaned.addr_state.notnull()]"
      ],
      "execution_count": 0,
      "outputs": []
    },
    {
      "metadata": {
        "id": "jkkZmTlfrZZM",
        "colab_type": "text"
      },
      "cell_type": "markdown",
      "source": [
        "We prepare the loan title for natural language feature extraction."
      ]
    },
    {
      "metadata": {
        "id": "V-ph2lHArZZO",
        "colab_type": "code",
        "colab": {}
      },
      "cell_type": "code",
      "source": [
        "df_loan_rejected_cleaned.replace({'title': {np.nan: 'N/A'}}, inplace=True)\n",
        "df_loan_rejected_cleaned.title = clean_text(df_loan_rejected_cleaned.title)"
      ],
      "execution_count": 0,
      "outputs": []
    },
    {
      "metadata": {
        "id": "IhxHH7q8rZZS",
        "colab_type": "text"
      },
      "cell_type": "markdown",
      "source": [
        "We transform employment length to integer."
      ]
    },
    {
      "metadata": {
        "id": "qV870qF3rZZU",
        "colab_type": "code",
        "colab": {}
      },
      "cell_type": "code",
      "source": [
        "df_loan_rejected_cleaned.emp_length.fillna(value=0,inplace=True)\n",
        "df_loan_rejected_cleaned.emp_length.replace(to_replace='[^0-9]+', value='', inplace=True, regex=True)\n",
        "df_loan_rejected_cleaned.emp_length.replace(to_replace='', value='0', inplace=True, regex=True)\n",
        "df_loan_rejected_cleaned.emp_length = df_loan_rejected_cleaned.emp_length.astype(int)"
      ],
      "execution_count": 0,
      "outputs": []
    },
    {
      "metadata": {
        "id": "hyOt1XmmrZZY",
        "colab_type": "text"
      },
      "cell_type": "markdown",
      "source": [
        "Transform debt to income ratio to float."
      ]
    },
    {
      "metadata": {
        "id": "0erp9yrUrZZY",
        "colab_type": "code",
        "colab": {}
      },
      "cell_type": "code",
      "source": [
        "df_loan_rejected_cleaned.dti = df_loan_rejected_cleaned.dti.str.replace('%','')\n",
        "df_loan_rejected_cleaned.dti = df_loan_rejected_cleaned.dti.astype('float32')"
      ],
      "execution_count": 0,
      "outputs": []
    },
    {
      "metadata": {
        "id": "IFwksUWyrZZc",
        "colab_type": "text"
      },
      "cell_type": "markdown",
      "source": [
        "Add application month and quarter."
      ]
    },
    {
      "metadata": {
        "id": "f3MWTdW5rZZc",
        "colab_type": "code",
        "colab": {}
      },
      "cell_type": "code",
      "source": [
        "df_loan_rejected_cleaned['issue_m']= pd.to_datetime(df_loan_rejected_cleaned.issue_d, format='%Y-%m-%d').dt.strftime(\"%b\")\n",
        "df_loan_rejected_cleaned['issue_q']= pd.to_datetime(df_loan_rejected_cleaned.issue_d, format='%Y-%m-%d').dt.to_period('Q')"
      ],
      "execution_count": 0,
      "outputs": []
    },
    {
      "metadata": {
        "id": "gHs-ZVhSrZZe",
        "colab_type": "text"
      },
      "cell_type": "markdown",
      "source": [
        "Loan and census data consolidation"
      ]
    },
    {
      "metadata": {
        "id": "_c4HLR7LrZZi",
        "colab_type": "code",
        "colab": {}
      },
      "cell_type": "code",
      "source": [
        " df_loan_rejected_census_cleaned = pd.merge(df_loan_rejected_cleaned, df_census_cleaned, on='zip_code')"
      ],
      "execution_count": 0,
      "outputs": []
    },
    {
      "metadata": {
        "scrolled": true,
        "id": "Hm2y-lYDrZZm",
        "colab_type": "code",
        "colab": {},
        "outputId": "d4486f74-d232-4b52-cf2a-f0c3fa9954b7"
      },
      "cell_type": "code",
      "source": [
        "df_loan_rejected_census_cleaned.head()"
      ],
      "execution_count": 0,
      "outputs": [
        {
          "output_type": "execute_result",
          "data": {
            "text/html": [
              "<div>\n",
              "<style scoped>\n",
              "    .dataframe tbody tr th:only-of-type {\n",
              "        vertical-align: middle;\n",
              "    }\n",
              "\n",
              "    .dataframe tbody tr th {\n",
              "        vertical-align: top;\n",
              "    }\n",
              "\n",
              "    .dataframe thead th {\n",
              "        text-align: right;\n",
              "    }\n",
              "</style>\n",
              "<table border=\"1\" class=\"dataframe\">\n",
              "  <thead>\n",
              "    <tr style=\"text-align: right;\">\n",
              "      <th></th>\n",
              "      <th>loan_amnt</th>\n",
              "      <th>issue_d</th>\n",
              "      <th>title</th>\n",
              "      <th>risk_score</th>\n",
              "      <th>dti</th>\n",
              "      <th>zip_code</th>\n",
              "      <th>addr_state</th>\n",
              "      <th>emp_length</th>\n",
              "      <th>issue_m</th>\n",
              "      <th>issue_q</th>\n",
              "      <th>...</th>\n",
              "      <th>male_pct</th>\n",
              "      <th>female_pct</th>\n",
              "      <th>Black_pct</th>\n",
              "      <th>Native_pct</th>\n",
              "      <th>Asian_pct</th>\n",
              "      <th>Hispanic_pct</th>\n",
              "      <th>household_family_pct</th>\n",
              "      <th>poverty_level_below_pct</th>\n",
              "      <th>Graduate_Degree_pct</th>\n",
              "      <th>employment_2016_rate</th>\n",
              "    </tr>\n",
              "  </thead>\n",
              "  <tbody>\n",
              "    <tr>\n",
              "      <th>0</th>\n",
              "      <td>1000.0</td>\n",
              "      <td>2007-05-26</td>\n",
              "      <td>wedding covered honeymoon</td>\n",
              "      <td>693.0</td>\n",
              "      <td>10.00</td>\n",
              "      <td>481xx</td>\n",
              "      <td>NM</td>\n",
              "      <td>4</td>\n",
              "      <td>May</td>\n",
              "      <td>2007Q2</td>\n",
              "      <td>...</td>\n",
              "      <td>0.494315</td>\n",
              "      <td>0.505685</td>\n",
              "      <td>0.071903</td>\n",
              "      <td>0.003197</td>\n",
              "      <td>0.032006</td>\n",
              "      <td>0.03931</td>\n",
              "      <td>0.671069</td>\n",
              "      <td>0.225222</td>\n",
              "      <td>0.127648</td>\n",
              "      <td>0.804903</td>\n",
              "    </tr>\n",
              "    <tr>\n",
              "      <th>1</th>\n",
              "      <td>17000.0</td>\n",
              "      <td>2007-06-18</td>\n",
              "      <td>caterik</td>\n",
              "      <td>628.0</td>\n",
              "      <td>22.76</td>\n",
              "      <td>481xx</td>\n",
              "      <td>MI</td>\n",
              "      <td>1</td>\n",
              "      <td>Jun</td>\n",
              "      <td>2007Q2</td>\n",
              "      <td>...</td>\n",
              "      <td>0.494315</td>\n",
              "      <td>0.505685</td>\n",
              "      <td>0.071903</td>\n",
              "      <td>0.003197</td>\n",
              "      <td>0.032006</td>\n",
              "      <td>0.03931</td>\n",
              "      <td>0.671069</td>\n",
              "      <td>0.225222</td>\n",
              "      <td>0.127648</td>\n",
              "      <td>0.804903</td>\n",
              "    </tr>\n",
              "    <tr>\n",
              "      <th>2</th>\n",
              "      <td>3000.0</td>\n",
              "      <td>2007-06-20</td>\n",
              "      <td>joelbacon</td>\n",
              "      <td>683.0</td>\n",
              "      <td>4.69</td>\n",
              "      <td>481xx</td>\n",
              "      <td>OH</td>\n",
              "      <td>2</td>\n",
              "      <td>Jun</td>\n",
              "      <td>2007Q2</td>\n",
              "      <td>...</td>\n",
              "      <td>0.494315</td>\n",
              "      <td>0.505685</td>\n",
              "      <td>0.071903</td>\n",
              "      <td>0.003197</td>\n",
              "      <td>0.032006</td>\n",
              "      <td>0.03931</td>\n",
              "      <td>0.671069</td>\n",
              "      <td>0.225222</td>\n",
              "      <td>0.127648</td>\n",
              "      <td>0.804903</td>\n",
              "    </tr>\n",
              "    <tr>\n",
              "      <th>3</th>\n",
              "      <td>2300.0</td>\n",
              "      <td>2007-07-13</td>\n",
              "      <td>chrissy</td>\n",
              "      <td>448.0</td>\n",
              "      <td>6.24</td>\n",
              "      <td>481xx</td>\n",
              "      <td>MI</td>\n",
              "      <td>9</td>\n",
              "      <td>Jul</td>\n",
              "      <td>2007Q3</td>\n",
              "      <td>...</td>\n",
              "      <td>0.494315</td>\n",
              "      <td>0.505685</td>\n",
              "      <td>0.071903</td>\n",
              "      <td>0.003197</td>\n",
              "      <td>0.032006</td>\n",
              "      <td>0.03931</td>\n",
              "      <td>0.671069</td>\n",
              "      <td>0.225222</td>\n",
              "      <td>0.127648</td>\n",
              "      <td>0.804903</td>\n",
              "    </tr>\n",
              "    <tr>\n",
              "      <th>4</th>\n",
              "      <td>8000.0</td>\n",
              "      <td>2007-09-04</td>\n",
              "      <td>secure216</td>\n",
              "      <td>468.0</td>\n",
              "      <td>19.73</td>\n",
              "      <td>481xx</td>\n",
              "      <td>MS</td>\n",
              "      <td>1</td>\n",
              "      <td>Sep</td>\n",
              "      <td>2007Q3</td>\n",
              "      <td>...</td>\n",
              "      <td>0.494315</td>\n",
              "      <td>0.505685</td>\n",
              "      <td>0.071903</td>\n",
              "      <td>0.003197</td>\n",
              "      <td>0.032006</td>\n",
              "      <td>0.03931</td>\n",
              "      <td>0.671069</td>\n",
              "      <td>0.225222</td>\n",
              "      <td>0.127648</td>\n",
              "      <td>0.804903</td>\n",
              "    </tr>\n",
              "  </tbody>\n",
              "</table>\n",
              "<p>5 rows × 22 columns</p>\n",
              "</div>"
            ],
            "text/plain": [
              "   loan_amnt     issue_d                      title  risk_score    dti  \\\n",
              "0  1000.0     2007-05-26  wedding covered honeymoon  693.0       10.00   \n",
              "1  17000.0    2007-06-18  caterik                    628.0       22.76   \n",
              "2  3000.0     2007-06-20  joelbacon                  683.0       4.69    \n",
              "3  2300.0     2007-07-13  chrissy                    448.0       6.24    \n",
              "4  8000.0     2007-09-04  secure216                  468.0       19.73   \n",
              "\n",
              "  zip_code addr_state  emp_length issue_m issue_q          ...           \\\n",
              "0  481xx    NM         4           May    2007Q2           ...            \n",
              "1  481xx    MI         1           Jun    2007Q2           ...            \n",
              "2  481xx    OH         2           Jun    2007Q2           ...            \n",
              "3  481xx    MI         9           Jul    2007Q3           ...            \n",
              "4  481xx    MS         1           Sep    2007Q3           ...            \n",
              "\n",
              "   male_pct  female_pct  Black_pct  Native_pct  Asian_pct  Hispanic_pct  \\\n",
              "0  0.494315  0.505685    0.071903   0.003197    0.032006   0.03931        \n",
              "1  0.494315  0.505685    0.071903   0.003197    0.032006   0.03931        \n",
              "2  0.494315  0.505685    0.071903   0.003197    0.032006   0.03931        \n",
              "3  0.494315  0.505685    0.071903   0.003197    0.032006   0.03931        \n",
              "4  0.494315  0.505685    0.071903   0.003197    0.032006   0.03931        \n",
              "\n",
              "   household_family_pct  poverty_level_below_pct  Graduate_Degree_pct  \\\n",
              "0  0.671069              0.225222                 0.127648              \n",
              "1  0.671069              0.225222                 0.127648              \n",
              "2  0.671069              0.225222                 0.127648              \n",
              "3  0.671069              0.225222                 0.127648              \n",
              "4  0.671069              0.225222                 0.127648              \n",
              "\n",
              "   employment_2016_rate  \n",
              "0  0.804903              \n",
              "1  0.804903              \n",
              "2  0.804903              \n",
              "3  0.804903              \n",
              "4  0.804903              \n",
              "\n",
              "[5 rows x 22 columns]"
            ]
          },
          "metadata": {
            "tags": []
          },
          "execution_count": 393
        }
      ]
    },
    {
      "metadata": {
        "id": "kqPQly27rZZq",
        "colab_type": "text"
      },
      "cell_type": "markdown",
      "source": [
        "Let's save the final rejected loan dataset augmented with census data to disk."
      ]
    },
    {
      "metadata": {
        "id": "iAxF1ShQrZZu",
        "colab_type": "code",
        "colab": {}
      },
      "cell_type": "code",
      "source": [
        "df_loan_rejected_census_cleaned.to_csv('df_loan_rejected_census_cleaned.csv')"
      ],
      "execution_count": 0,
      "outputs": []
    },
    {
      "metadata": {
        "id": "OYTXBzFWrZZw",
        "colab_type": "code",
        "colab": {}
      },
      "cell_type": "code",
      "source": [
        ""
      ],
      "execution_count": 0,
      "outputs": []
    }
  ]
}